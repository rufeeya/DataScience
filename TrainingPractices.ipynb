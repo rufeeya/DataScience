{
  "nbformat": 4,
  "nbformat_minor": 0,
  "metadata": {
    "colab": {
      "name": "TrainingPractices.ipynb",
      "provenance": [],
      "authorship_tag": "ABX9TyPm15+PQJOYPbvUwnfCSZYA",
      "include_colab_link": true
    },
    "kernelspec": {
      "name": "python3",
      "display_name": "Python 3"
    },
    "language_info": {
      "name": "python"
    }
  },
  "cells": [
    {
      "cell_type": "markdown",
      "metadata": {
        "id": "view-in-github",
        "colab_type": "text"
      },
      "source": [
        "<a href=\"https://colab.research.google.com/github/rufeeya/DataScience/blob/main/TrainingPractices.ipynb\" target=\"_parent\"><img src=\"https://colab.research.google.com/assets/colab-badge.svg\" alt=\"Open In Colab\"/></a>"
      ]
    },
    {
      "cell_type": "code",
      "execution_count": null,
      "metadata": {
        "colab": {
          "base_uri": "https://localhost:8080/"
        },
        "id": "cUNaGeTUL6Re",
        "outputId": "a98386eb-327c-4c88-dccf-16a67a4e2fe7"
      },
      "outputs": [
        {
          "output_type": "stream",
          "name": "stdout",
          "text": [
            "Python 3.7.12\n"
          ]
        }
      ],
      "source": [
        "!python -V"
      ]
    },
    {
      "cell_type": "code",
      "source": [
        "#Simple Print\n",
        "name = input(\"Enter name: \")\n",
        "print(\"Welcome, \", name)"
      ],
      "metadata": {
        "id": "KwFrjDkYRJho"
      },
      "execution_count": null,
      "outputs": []
    },
    {
      "cell_type": "code",
      "source": [
        "#Covid System - Nested IF\n",
        "temp = int(input())\n",
        "if temp > 98:\n",
        "  symptoms = input(\"Enter Symptoms: \")\n",
        "  if symptoms == \"cough\" or symptoms == \"fever\":\n",
        "    print(\"Take CT Scan\")\n",
        "    CT = int(input(\"Enter CT Scan reading: \"))\n",
        "    if CT >= 35 and CT < 50:\n",
        "      print(\"Get admitted in the Hospital\")\n",
        "    elif CT>=50:\n",
        "      print(\"ICU\")\n",
        "    elif CT<35:\n",
        "      print(\"Home Isolation\")\n",
        "  else:\n",
        "    print(\"No much symptoms. Go home\")\n",
        "elif temp <= 98:\n",
        "  symptoms = input(\"Enter Symptoms: \")\n",
        "  if symptoms == \"Sorethroat\":\n",
        "    print(\"Strepsils\")\n",
        "  else:\n",
        "    print(\"Go home\")"
      ],
      "metadata": {
        "id": "1XtzM_PabrQW"
      },
      "execution_count": null,
      "outputs": []
    },
    {
      "cell_type": "code",
      "source": [
        "#Simple while, nested while, break, continue\n",
        "i = 1\n",
        "while i<6:\n",
        "  print(i)\n",
        "  if i ==3:\n",
        "    break\n",
        "  i += 1\n"
      ],
      "metadata": {
        "id": "46jNu0APLJeX"
      },
      "execution_count": null,
      "outputs": []
    },
    {
      "cell_type": "code",
      "source": [
        "#Nested:\n",
        "a=1\n",
        "while a<10:\n",
        "  #print(\"value of a is\" + str(a))\n",
        "  b=1\n",
        "  while b<5:\n",
        "    #print(\"value of b is\" + str(b))\n",
        "    print(b)\n",
        "    if b == 2:\n",
        "      break\n",
        "    b += 1\n",
        "  a += 1"
      ],
      "metadata": {
        "id": "hlQ3oWcwVZ6m"
      },
      "execution_count": null,
      "outputs": []
    },
    {
      "cell_type": "code",
      "source": [
        "#Continue\n",
        "i = 0\n",
        "while i < 6:\n",
        "  i+= 1\n",
        "  if i ==3:\n",
        "    continue\n",
        "  print(i)\n"
      ],
      "metadata": {
        "id": "yuKh1yUETyRb"
      },
      "execution_count": null,
      "outputs": []
    },
    {
      "cell_type": "code",
      "source": [
        "#For loop\n"
      ],
      "metadata": {
        "id": "rLtp4l3RYHzn"
      },
      "execution_count": null,
      "outputs": []
    }
  ]
}