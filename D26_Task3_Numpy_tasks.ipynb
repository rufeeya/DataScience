{
  "cells": [
    {
      "cell_type": "markdown",
      "metadata": {
        "id": "view-in-github",
        "colab_type": "text"
      },
      "source": [
        "<a href=\"https://colab.research.google.com/github/rufeeya/DataScience/blob/main/D26_Task3_Numpy_tasks.ipynb\" target=\"_parent\"><img src=\"https://colab.research.google.com/assets/colab-badge.svg\" alt=\"Open In Colab\"/></a>"
      ]
    },
    {
      "cell_type": "markdown",
      "metadata": {
        "id": "PucjKUediSdM"
      },
      "source": [
        "# Numpy\n",
        "\n"
      ]
    },
    {
      "cell_type": "markdown",
      "metadata": {
        "id": "7xZ8-tHKiSdP"
      },
      "source": [
        "#### 1. Import the numpy package under the name `np` (★☆☆) \n",
        "(**hint**: import … as …)"
      ]
    },
    {
      "cell_type": "code",
      "execution_count": null,
      "metadata": {
        "collapsed": true,
        "id": "_MJ9pBvEiSdQ"
      },
      "outputs": [],
      "source": [
        "import numpy as np"
      ]
    },
    {
      "cell_type": "markdown",
      "metadata": {
        "id": "0wMlFiq_iSdQ"
      },
      "source": [
        "#### 2. Print the numpy version and the configuration (★☆☆) \n",
        "(**hint**: np.\\_\\_version\\_\\_, np.show\\_config)"
      ]
    },
    {
      "cell_type": "code",
      "execution_count": null,
      "metadata": {
        "id": "LspeM5Y4iSdR",
        "colab": {
          "base_uri": "https://localhost:8080/"
        },
        "outputId": "d3710a11-688d-46d4-a616-eb16c5896fcf"
      },
      "outputs": [
        {
          "output_type": "stream",
          "name": "stdout",
          "text": [
            "Version is  1.21.6\n",
            "Config is: \n",
            "blas_mkl_info:\n",
            "  NOT AVAILABLE\n",
            "blis_info:\n",
            "  NOT AVAILABLE\n",
            "openblas_info:\n",
            "    libraries = ['openblas', 'openblas']\n",
            "    library_dirs = ['/usr/local/lib']\n",
            "    language = c\n",
            "    define_macros = [('HAVE_CBLAS', None)]\n",
            "    runtime_library_dirs = ['/usr/local/lib']\n",
            "blas_opt_info:\n",
            "    libraries = ['openblas', 'openblas']\n",
            "    library_dirs = ['/usr/local/lib']\n",
            "    language = c\n",
            "    define_macros = [('HAVE_CBLAS', None)]\n",
            "    runtime_library_dirs = ['/usr/local/lib']\n",
            "lapack_mkl_info:\n",
            "  NOT AVAILABLE\n",
            "openblas_lapack_info:\n",
            "    libraries = ['openblas', 'openblas']\n",
            "    library_dirs = ['/usr/local/lib']\n",
            "    language = c\n",
            "    define_macros = [('HAVE_CBLAS', None)]\n",
            "    runtime_library_dirs = ['/usr/local/lib']\n",
            "lapack_opt_info:\n",
            "    libraries = ['openblas', 'openblas']\n",
            "    library_dirs = ['/usr/local/lib']\n",
            "    language = c\n",
            "    define_macros = [('HAVE_CBLAS', None)]\n",
            "    runtime_library_dirs = ['/usr/local/lib']\n",
            "Supported SIMD extensions in this NumPy install:\n",
            "    baseline = SSE,SSE2,SSE3\n",
            "    found = SSSE3,SSE41,POPCNT,SSE42,AVX,F16C,FMA3,AVX2\n",
            "    not found = AVX512F,AVX512CD,AVX512_KNL,AVX512_KNM,AVX512_SKX,AVX512_CLX,AVX512_CNL,AVX512_ICL\n"
          ]
        }
      ],
      "source": [
        "print(\"Version is \", np.__version__)\n",
        "print(\"Config is: \")\n",
        "np.show_config()"
      ]
    },
    {
      "cell_type": "markdown",
      "metadata": {
        "id": "2_dvdhBDiSdR"
      },
      "source": [
        "#### 3. Create a null vector of size 10 (★☆☆) \n",
        "(**hint**: np.zeros)"
      ]
    },
    {
      "cell_type": "code",
      "execution_count": null,
      "metadata": {
        "id": "FLcKx296iSdR",
        "colab": {
          "base_uri": "https://localhost:8080/"
        },
        "outputId": "a5bd8dc4-da3c-486f-f8de-aaaad5fa8c00"
      },
      "outputs": [
        {
          "output_type": "execute_result",
          "data": {
            "text/plain": [
              "array([0., 0., 0., 0., 0., 0., 0., 0., 0., 0.])"
            ]
          },
          "metadata": {},
          "execution_count": 6
        }
      ],
      "source": [
        "x = np.zeros(10)\n",
        "x"
      ]
    },
    {
      "cell_type": "markdown",
      "metadata": {
        "id": "mOC_5i56iSdS"
      },
      "source": [
        "#### 4.  How to find the memory size of any array (★☆☆) \n",
        "(**hint**: size, itemsize)"
      ]
    },
    {
      "cell_type": "code",
      "execution_count": null,
      "metadata": {
        "id": "ayQNSPdViSdS",
        "colab": {
          "base_uri": "https://localhost:8080/"
        },
        "outputId": "6468e153-49cb-4cea-c79d-94975c1052d1"
      },
      "outputs": [
        {
          "output_type": "execute_result",
          "data": {
            "text/plain": [
              "8"
            ]
          },
          "metadata": {},
          "execution_count": 7
        }
      ],
      "source": [
        "x.itemsize"
      ]
    },
    {
      "cell_type": "markdown",
      "metadata": {
        "id": "HFi74xDNiSdT"
      },
      "source": [
        "#### 5.  How to get the documentation of the numpy add function from the \n",
        "\n",
        "*   List item\n",
        "*   List item\n",
        "\n",
        "command line? (★☆☆) \n",
        "(**hint**: np.info)"
      ]
    },
    {
      "cell_type": "code",
      "execution_count": null,
      "metadata": {
        "collapsed": true,
        "id": "iyoMcguviSdT"
      },
      "outputs": [],
      "source": [
        "np.info(np.add)"
      ]
    },
    {
      "cell_type": "markdown",
      "metadata": {
        "id": "FUF0jSZBiSdT"
      },
      "source": [
        "#### 6.  Create a null vector of size 10 but the fifth value which is 1 (★☆☆) \n",
        "(**hint**: array\\[4\\])"
      ]
    },
    {
      "cell_type": "code",
      "execution_count": null,
      "metadata": {
        "id": "Vh816s7riSdU",
        "colab": {
          "base_uri": "https://localhost:8080/"
        },
        "outputId": "53f520e2-7330-4f3e-abdb-2ac127b91677"
      },
      "outputs": [
        {
          "output_type": "execute_result",
          "data": {
            "text/plain": [
              "array([0., 0., 0., 0., 1., 0., 0., 0., 0., 0.])"
            ]
          },
          "metadata": {},
          "execution_count": 11
        }
      ],
      "source": [
        "x = np.zeros(10)\n",
        "x[4] = 1\n",
        "x"
      ]
    },
    {
      "cell_type": "markdown",
      "metadata": {
        "id": "ta7I0mYDiSdU"
      },
      "source": [
        "#### 7.  Create a vector with values ranging from 10 to 49 (★☆☆) \n",
        "(**hint**: np.arange)"
      ]
    },
    {
      "cell_type": "code",
      "execution_count": null,
      "metadata": {
        "id": "FcVNofsxiSdU",
        "colab": {
          "base_uri": "https://localhost:8080/"
        },
        "outputId": "df2dc524-e740-4f52-9b8b-2c40e4d39244"
      },
      "outputs": [
        {
          "output_type": "execute_result",
          "data": {
            "text/plain": [
              "array([10, 11, 12, 13, 14, 15, 16, 17, 18, 19, 20, 21, 22, 23, 24, 25, 26,\n",
              "       27, 28, 29, 30, 31, 32, 33, 34, 35, 36, 37, 38, 39, 40, 41, 42, 43,\n",
              "       44, 45, 46, 47, 48, 49])"
            ]
          },
          "metadata": {},
          "execution_count": 13
        }
      ],
      "source": [
        "y = np.arange(10,50)\n",
        "y"
      ]
    },
    {
      "cell_type": "markdown",
      "metadata": {
        "id": "LtoxDHh3iSdV"
      },
      "source": [
        "#### 8.  Reverse a vector (first element becomes last) (★☆☆) \n",
        "(**hint**: array\\[::-1\\])"
      ]
    },
    {
      "cell_type": "code",
      "execution_count": null,
      "metadata": {
        "id": "gTYNWaIjiSdV",
        "colab": {
          "base_uri": "https://localhost:8080/"
        },
        "outputId": "6b2f55b2-3175-40dc-c06f-f34725c2f3c7"
      },
      "outputs": [
        {
          "output_type": "execute_result",
          "data": {
            "text/plain": [
              "array([49, 48, 47, 46, 45, 44, 43, 42, 41, 40, 39, 38, 37, 36, 35, 34, 33,\n",
              "       32, 31, 30, 29, 28, 27, 26, 25, 24, 23, 22, 21, 20, 19, 18, 17, 16,\n",
              "       15, 14, 13, 12, 11, 10])"
            ]
          },
          "metadata": {},
          "execution_count": 14
        }
      ],
      "source": [
        "y = np.arange(10,50)\n",
        "y[::-1]"
      ]
    },
    {
      "cell_type": "markdown",
      "metadata": {
        "id": "xroFWnSLiSdV"
      },
      "source": [
        "#### 9.  Create a 3x3 matrix with values ranging from 0 to 8 (★☆☆) \n",
        "(**hint**: reshape)"
      ]
    },
    {
      "cell_type": "code",
      "execution_count": null,
      "metadata": {
        "id": "SR2FQhHOiSdV",
        "colab": {
          "base_uri": "https://localhost:8080/"
        },
        "outputId": "2af0fd53-3d8e-47c8-840d-1ca9af6ec548"
      },
      "outputs": [
        {
          "output_type": "execute_result",
          "data": {
            "text/plain": [
              "array([[0, 1, 2],\n",
              "       [3, 4, 5],\n",
              "       [6, 7, 8]])"
            ]
          },
          "metadata": {},
          "execution_count": 15
        }
      ],
      "source": [
        "z = np.arange(9).reshape(3,3)\n",
        "z"
      ]
    },
    {
      "cell_type": "markdown",
      "metadata": {
        "id": "3nYDg84diSdW"
      },
      "source": [
        "#### 10. Find indices of non-zero elements from \\[1,2,0,0,4,0\\] (★☆☆) \n",
        "(**hint**: np.nonzero)"
      ]
    },
    {
      "cell_type": "code",
      "execution_count": null,
      "metadata": {
        "id": "gbDSiMRfiSdW",
        "colab": {
          "base_uri": "https://localhost:8080/"
        },
        "outputId": "76368dce-5487-4646-e8fb-0e71506a9778"
      },
      "outputs": [
        {
          "output_type": "stream",
          "name": "stdout",
          "text": [
            "(array([0, 1, 4]),)\n"
          ]
        }
      ],
      "source": [
        "print(np.nonzero([1,2,0,0,4,0]))\n"
      ]
    },
    {
      "cell_type": "markdown",
      "metadata": {
        "id": "9UG3iuxWiSdW"
      },
      "source": [
        "#### 11. Create a 3x3 identity matrix (★☆☆) \n",
        "(**hint**: np.eye)"
      ]
    },
    {
      "cell_type": "code",
      "execution_count": null,
      "metadata": {
        "id": "l-L2kI4kiSdW",
        "colab": {
          "base_uri": "https://localhost:8080/"
        },
        "outputId": "07591d85-56ec-442d-b91f-b5f259cacd89"
      },
      "outputs": [
        {
          "output_type": "execute_result",
          "data": {
            "text/plain": [
              "array([[1., 0., 0.],\n",
              "       [0., 1., 0.],\n",
              "       [0., 0., 1.]])"
            ]
          },
          "metadata": {},
          "execution_count": 17
        }
      ],
      "source": [
        "z=np.eye(3)\n",
        "z"
      ]
    },
    {
      "cell_type": "markdown",
      "metadata": {
        "id": "bz7cADT7iSdW"
      },
      "source": [
        "#### 12. Create a 3x3x3 array with random values (★☆☆) \n",
        "(**hint**: np.random.random)"
      ]
    },
    {
      "cell_type": "code",
      "execution_count": null,
      "metadata": {
        "collapsed": true,
        "id": "TjvTvWbJiSdX",
        "colab": {
          "base_uri": "https://localhost:8080/"
        },
        "outputId": "6a65fc15-f4dd-4b5f-bad3-dd4e233d18bd"
      },
      "outputs": [
        {
          "output_type": "execute_result",
          "data": {
            "text/plain": [
              "array([[[0.06228925, 0.06128965, 0.42793508],\n",
              "        [0.16150091, 0.82188455, 0.76728523],\n",
              "        [0.45586278, 0.71105182, 0.11846517]],\n",
              "\n",
              "       [[0.69241353, 0.14713654, 0.17824654],\n",
              "        [0.79928277, 0.57410525, 0.09430209],\n",
              "        [0.733577  , 0.99397599, 0.16504495]],\n",
              "\n",
              "       [[0.03138163, 0.03164765, 0.27920644],\n",
              "        [0.87129516, 0.20618449, 0.56821206],\n",
              "        [0.24586212, 0.76551421, 0.17847555]]])"
            ]
          },
          "metadata": {},
          "execution_count": 23
        }
      ],
      "source": [
        "z=np.random.random(27).reshape(3,3,3)\n",
        "z"
      ]
    },
    {
      "cell_type": "markdown",
      "metadata": {
        "id": "i0XO06g7iSdX"
      },
      "source": [
        "#### 13. Create a 10x10 array with random values and find the minimum and maximum values (★☆☆) \n",
        "(**hint**: min, max)"
      ]
    },
    {
      "cell_type": "code",
      "execution_count": null,
      "metadata": {
        "id": "iioNoUU_iSdX",
        "colab": {
          "base_uri": "https://localhost:8080/"
        },
        "outputId": "5d7b7cbb-6b47-4730-c891-adb35441b3ba"
      },
      "outputs": [
        {
          "output_type": "stream",
          "name": "stdout",
          "text": [
            "z is: \n",
            "[[0.12026954 0.83106162 0.46777275 0.70697769 0.92550649 0.71530521\n",
            "  0.44142428 0.21407001 0.92932761 0.00368799]\n",
            " [0.37162525 0.31904537 0.04404902 0.62425098 0.08746207 0.18623092\n",
            "  0.82302666 0.11945002 0.61208369 0.63903621]\n",
            " [0.48631476 0.30073647 0.21110209 0.07574686 0.13568326 0.18747223\n",
            "  0.74474746 0.70426662 0.88184472 0.3814704 ]\n",
            " [0.82250557 0.08064163 0.3148882  0.76957703 0.63491795 0.77113011\n",
            "  0.41700853 0.82593568 0.14855798 0.81446202]\n",
            " [0.79010857 0.18764078 0.52520174 0.39004897 0.74424449 0.18481958\n",
            "  0.88885113 0.5242451  0.60449903 0.97979449]\n",
            " [0.86257841 0.26277192 0.95019589 0.47224615 0.10829397 0.22122166\n",
            "  0.35639643 0.87691858 0.88251755 0.02152901]\n",
            " [0.6136906  0.08023569 0.27428277 0.33006556 0.11845924 0.7740844\n",
            "  0.92785985 0.41338662 0.73706217 0.41846161]\n",
            " [0.37155171 0.52471135 0.85839308 0.24831152 0.83444918 0.42330887\n",
            "  0.52773758 0.50839388 0.12909638 0.66206489]\n",
            " [0.68672535 0.27731917 0.57697687 0.18949981 0.17797445 0.26767699\n",
            "  0.65223061 0.27048965 0.77365683 0.46677495]\n",
            " [0.14246588 0.0475198  0.02049152 0.60642109 0.20060268 0.89164846\n",
            "  0.47634668 0.13083542 0.01313257 0.59658876]]\n",
            " Min is:  0.003687987021315009\n",
            " Max is:  0.9797944942251219\n"
          ]
        }
      ],
      "source": [
        "z=np.random.random(100).reshape(10,10)\n",
        "print(\"z is: \")\n",
        "print(z)\n",
        "print(\" Min is: \", z.min())\n",
        "print(\" Max is: \", z.max())"
      ]
    },
    {
      "cell_type": "markdown",
      "metadata": {
        "id": "ihN5V7DhiSdX"
      },
      "source": [
        "#### 14. Create a random vector of size 30 and find the mean value (★☆☆) \n",
        "(**hint**: mean)"
      ]
    },
    {
      "cell_type": "code",
      "execution_count": null,
      "metadata": {
        "id": "-ZTYEiyQiSdX",
        "colab": {
          "base_uri": "https://localhost:8080/"
        },
        "outputId": "d428e24a-8252-426d-c221-b418dc299f31"
      },
      "outputs": [
        {
          "output_type": "stream",
          "name": "stdout",
          "text": [
            "z is: \n",
            "[0.04671543 0.50551025 0.25852133 0.50995519 0.05849087 0.60140338\n",
            " 0.81469203 0.97543525 0.55237296 0.19988929 0.51583964 0.69735601\n",
            " 0.7836785  0.19322443 0.87552718 0.12328632 0.4324921  0.99158775\n",
            " 0.7253639  0.79786116 0.48356437 0.82729828 0.73011725 0.52115432\n",
            " 0.78527187 0.99084633 0.85389946 0.77339428 0.11888779 0.59775603]\n",
            " Mean is:  0.5780464323257664\n"
          ]
        }
      ],
      "source": [
        "z=np.random.random(30)\n",
        "print(\"z is: \")\n",
        "print(z)\n",
        "print(\" Mean is: \", z.mean())"
      ]
    },
    {
      "cell_type": "markdown",
      "metadata": {
        "id": "q3az6gkTiSdX"
      },
      "source": [
        "#### 15. Create a 2d array with 1 on the border and 0 inside (★☆☆) \n",
        "(**hint**: array\\[1:-1, 1:-1\\])"
      ]
    },
    {
      "cell_type": "code",
      "execution_count": null,
      "metadata": {
        "id": "Hb0q_X2ziSdX",
        "colab": {
          "base_uri": "https://localhost:8080/"
        },
        "outputId": "65232a03-c9f0-438b-c09e-67745a38508d"
      },
      "outputs": [
        {
          "output_type": "execute_result",
          "data": {
            "text/plain": [
              "array([[1., 1., 1., 1., 1., 1., 1., 1., 1., 1.],\n",
              "       [1., 0., 0., 0., 0., 0., 0., 0., 0., 1.],\n",
              "       [1., 0., 0., 0., 0., 0., 0., 0., 0., 1.],\n",
              "       [1., 0., 0., 0., 0., 0., 0., 0., 0., 1.],\n",
              "       [1., 0., 0., 0., 0., 0., 0., 0., 0., 1.],\n",
              "       [1., 0., 0., 0., 0., 0., 0., 0., 0., 1.],\n",
              "       [1., 0., 0., 0., 0., 0., 0., 0., 0., 1.],\n",
              "       [1., 0., 0., 0., 0., 0., 0., 0., 0., 1.],\n",
              "       [1., 0., 0., 0., 0., 0., 0., 0., 0., 1.],\n",
              "       [1., 1., 1., 1., 1., 1., 1., 1., 1., 1.]])"
            ]
          },
          "metadata": {},
          "execution_count": 33
        }
      ],
      "source": [
        "borders = np.ones((10,10))\n",
        "borders[1:-1,1:-1] = 0\n",
        "borders"
      ]
    },
    {
      "cell_type": "markdown",
      "metadata": {
        "id": "RluWWGFQiSdX"
      },
      "source": [
        "#### 16. How to add a border (filled with 0's) around an existing array? (★☆☆) \n",
        "(**hint**: np.pad)"
      ]
    },
    {
      "cell_type": "code",
      "execution_count": null,
      "metadata": {
        "id": "n6OGXQ9DiSdY",
        "colab": {
          "base_uri": "https://localhost:8080/"
        },
        "outputId": "34c46801-199f-4c08-e17d-a2f49316c2cc"
      },
      "outputs": [
        {
          "output_type": "stream",
          "name": "stdout",
          "text": [
            "Original Array:\n",
            "[[1. 1. 1. 1.]\n",
            " [1. 1. 1. 1.]\n",
            " [1. 1. 1. 1.]\n",
            " [1. 1. 1. 1.]]\n",
            "Padded Array:\n",
            "[[0. 0. 0. 0. 0. 0.]\n",
            " [0. 1. 1. 1. 1. 0.]\n",
            " [0. 1. 1. 1. 1. 0.]\n",
            " [0. 1. 1. 1. 1. 0.]\n",
            " [0. 1. 1. 1. 1. 0.]\n",
            " [0. 0. 0. 0. 0. 0.]]\n"
          ]
        }
      ],
      "source": [
        "borders = np.ones((4,4))\n",
        "print(\"Original Array:\")\n",
        "print(borders)\n",
        "\n",
        "pad_borders = np.pad(borders, pad_width=1, mode='constant', constant_values=0)\n",
        "print(\"Padded Array:\")\n",
        "print(pad_borders)"
      ]
    },
    {
      "cell_type": "markdown",
      "metadata": {
        "id": "Dtke3S92iSdY"
      },
      "source": [
        "#### 17. What is the result of the following expression? (★☆☆) \n",
        "(**hint**: NaN = not a number, inf = infinity)"
      ]
    },
    {
      "cell_type": "markdown",
      "metadata": {
        "id": "wVzPQGY6iSdY"
      },
      "source": [
        "```python\n",
        "0 * np.nan\n",
        "np.nan == np.nan\n",
        "np.inf > np.nan\n",
        "np.nan - np.nan\n",
        "0.3 == 3 * 0.1\n",
        "```"
      ]
    },
    {
      "cell_type": "code",
      "execution_count": null,
      "metadata": {
        "id": "KNn-kokXiSdY",
        "colab": {
          "base_uri": "https://localhost:8080/"
        },
        "outputId": "d4525581-c598-4ab2-e86d-3734e4c8e3cf"
      },
      "outputs": [
        {
          "output_type": "stream",
          "name": "stdout",
          "text": [
            "nan\n",
            "False\n",
            "False\n",
            "nan\n",
            "False\n"
          ]
        }
      ],
      "source": [
        "nan\n",
        "False\n",
        "False\n",
        "nan\n",
        "False\n",
        "# print(0 * np.nan)\n",
        "# print(np.nan == np.nan)\n",
        "# print(np.inf > np.nan)\n",
        "# print(np.nan - np.nan)\n",
        "# print(0.3 == 3 * 0.1)"
      ]
    },
    {
      "cell_type": "markdown",
      "metadata": {
        "id": "iHnJVIjIiSdY"
      },
      "source": [
        "#### 18. Create a 5x5 matrix with values 1,2,3,4 just below the diagonal (★☆☆) \n",
        "(**hint**: np.diag)"
      ]
    },
    {
      "cell_type": "code",
      "execution_count": null,
      "metadata": {
        "id": "ey3JRx-ciSdZ",
        "colab": {
          "base_uri": "https://localhost:8080/"
        },
        "outputId": "7b25e895-e365-4ed9-f78d-a7917dbf889f"
      },
      "outputs": [
        {
          "output_type": "execute_result",
          "data": {
            "text/plain": [
              "array([[0, 0, 0, 0, 0],\n",
              "       [1, 0, 0, 0, 0],\n",
              "       [0, 2, 0, 0, 0],\n",
              "       [0, 0, 3, 0, 0],\n",
              "       [0, 0, 0, 4, 0]])"
            ]
          },
          "metadata": {},
          "execution_count": 41
        }
      ],
      "source": [
        "x = np.diag([1,2,3,4], k = -1)\n",
        "x"
      ]
    },
    {
      "cell_type": "markdown",
      "metadata": {
        "id": "mvx5rS-SiSdZ"
      },
      "source": [
        "#### 19. Create a 8x8 matrix and fill it with a checkerboard pattern (★☆☆) \n",
        "(**hint**: array\\[::2\\])"
      ]
    },
    {
      "cell_type": "code",
      "execution_count": null,
      "metadata": {
        "id": "HxNRagKViSdZ",
        "colab": {
          "base_uri": "https://localhost:8080/"
        },
        "outputId": "a3f87577-b520-4efc-8d62-1a2944b950ab"
      },
      "outputs": [
        {
          "output_type": "execute_result",
          "data": {
            "text/plain": [
              "array([[1., 0., 1., 0., 1., 0., 1., 0.],\n",
              "       [0., 1., 0., 1., 0., 1., 0., 1.],\n",
              "       [1., 0., 1., 0., 1., 0., 1., 0.],\n",
              "       [0., 1., 0., 1., 0., 1., 0., 1.],\n",
              "       [1., 0., 1., 0., 1., 0., 1., 0.],\n",
              "       [0., 1., 0., 1., 0., 1., 0., 1.],\n",
              "       [1., 0., 1., 0., 1., 0., 1., 0.],\n",
              "       [0., 1., 0., 1., 0., 1., 0., 1.]])"
            ]
          },
          "metadata": {},
          "execution_count": 46
        }
      ],
      "source": [
        "Z = np.ones ((8,8))\n",
        "Z[1::2, ::2]= 0\n",
        "Z[::2, 1::2] = 0\n",
        "Z"
      ]
    },
    {
      "cell_type": "markdown",
      "metadata": {
        "id": "IqZHmIg8iSdZ"
      },
      "source": [
        "#### 20. Consider a (6,7,8) shape array, what is the index (x,y,z) of the 100th element? \n",
        "(**hint**: np.unravel_index)"
      ]
    },
    {
      "cell_type": "code",
      "execution_count": null,
      "metadata": {
        "id": "ypMI5okhiSdZ",
        "colab": {
          "base_uri": "https://localhost:8080/"
        },
        "outputId": "c0f4fc6b-a8e7-4c22-e287-441398959216"
      },
      "outputs": [
        {
          "output_type": "stream",
          "name": "stdout",
          "text": [
            "(1, 5, 4)\n"
          ]
        }
      ],
      "source": [
        "print (np.unravel_index(100, (6,7,8)))"
      ]
    },
    {
      "cell_type": "markdown",
      "metadata": {
        "id": "30N7ZNVBiSdZ"
      },
      "source": [
        "#### 21. Create a checkerboard 8x8 matrix using the tile function (★☆☆) \n",
        "(**hint**: np.tile)"
      ]
    },
    {
      "cell_type": "code",
      "execution_count": null,
      "metadata": {
        "id": "2MohI-ysiSdZ",
        "colab": {
          "base_uri": "https://localhost:8080/"
        },
        "outputId": "2bbc1f0e-55f7-4b38-9ec1-048c1ce3bf97"
      },
      "outputs": [
        {
          "output_type": "execute_result",
          "data": {
            "text/plain": [
              "array([[0, 1, 0, 1, 0, 1, 0, 1],\n",
              "       [1, 0, 1, 0, 1, 0, 1, 0],\n",
              "       [0, 1, 0, 1, 0, 1, 0, 1],\n",
              "       [1, 0, 1, 0, 1, 0, 1, 0],\n",
              "       [0, 1, 0, 1, 0, 1, 0, 1],\n",
              "       [1, 0, 1, 0, 1, 0, 1, 0],\n",
              "       [0, 1, 0, 1, 0, 1, 0, 1],\n",
              "       [1, 0, 1, 0, 1, 0, 1, 0]])"
            ]
          },
          "metadata": {},
          "execution_count": 50
        }
      ],
      "source": [
        "checker = np.tile(np.array([[0,1], [1,0]]),(4,4))\n",
        "checker"
      ]
    },
    {
      "cell_type": "markdown",
      "metadata": {
        "id": "dO_kWNnEiSda"
      },
      "source": [
        "#### 22. Normalize a 5x5 random matrix (★☆☆) \n",
        "(**hint**: (x - min) / (max - min))"
      ]
    },
    {
      "cell_type": "code",
      "execution_count": null,
      "metadata": {
        "id": "z1NfzNjliSda",
        "colab": {
          "base_uri": "https://localhost:8080/"
        },
        "outputId": "47325f96-1472-4c9e-bc86-d282c2bd93c3"
      },
      "outputs": [
        {
          "output_type": "execute_result",
          "data": {
            "text/plain": [
              "array([[0.37512392, 0.08714899, 0.96672994, 0.02338581, 0.86279999],\n",
              "       [1.        , 0.81682311, 0.64849854, 0.330838  , 0.3142593 ],\n",
              "       [0.52518169, 0.        , 0.97530066, 0.83992891, 0.35013421],\n",
              "       [0.29222726, 0.21337192, 0.50780061, 0.63533296, 0.79473707],\n",
              "       [0.95926732, 0.77142234, 0.48522973, 0.17126311, 0.27218607]])"
            ]
          },
          "metadata": {},
          "execution_count": 51
        }
      ],
      "source": [
        "arr = np.random.random((5,5))\n",
        "Zmax, Zmin = arr.max(), arr.min()\n",
        "arr= (arr-Zmin)/(Zmax-Zmin)\n",
        "arr"
      ]
    },
    {
      "cell_type": "markdown",
      "metadata": {
        "id": "9IXTQ6hJiSda"
      },
      "source": [
        "#### 23. Create a custom dtype that describes a color as four unsigned bytes (RGBA) (★☆☆) \n",
        "(**hint**: np.dtype)"
      ]
    },
    {
      "cell_type": "code",
      "execution_count": null,
      "metadata": {
        "collapsed": true,
        "id": "UxX5oN1YiSda",
        "colab": {
          "base_uri": "https://localhost:8080/"
        },
        "outputId": "d67dc0a0-fc60-42da-9600-4e6c25b9a476"
      },
      "outputs": [
        {
          "output_type": "stream",
          "name": "stderr",
          "text": [
            "/usr/local/lib/python3.7/dist-packages/ipykernel_launcher.py:4: FutureWarning: Passing (type, 1) or '1type' as a synonym of type is deprecated; in a future version of numpy, it will be understood as (type, (1,)) / '(1,)type'.\n",
            "  after removing the cwd from sys.path.\n"
          ]
        },
        {
          "output_type": "execute_result",
          "data": {
            "text/plain": [
              "dtype([('r', 'u1'), ('g', 'u1'), ('b', 'u1'), ('a', 'u1')])"
            ]
          },
          "metadata": {},
          "execution_count": 52
        }
      ],
      "source": [
        "color_type = np.dtype([(\"r\", np.ubyte, 1),\n",
        "                  (\"g\", np.ubyte, 1),\n",
        "                  (\"b\", np.ubyte, 1),\n",
        "                  (\"a\", np.ubyte, 1)])\n",
        "color_type"
      ]
    },
    {
      "cell_type": "markdown",
      "metadata": {
        "id": "IBPQ2pQViSda"
      },
      "source": [
        "#### 24. Multiply a 5x3 matrix by a 3x2 matrix (real matrix product) (★☆☆) \n",
        "(**hint**: np.dot | @)"
      ]
    },
    {
      "cell_type": "code",
      "execution_count": null,
      "metadata": {
        "id": "-lD3vMgpiSda",
        "colab": {
          "base_uri": "https://localhost:8080/"
        },
        "outputId": "a8201a26-6d12-4a44-dc99-51f259e031fd"
      },
      "outputs": [
        {
          "output_type": "stream",
          "name": "stdout",
          "text": [
            "[[3. 3.]\n",
            " [3. 3.]\n",
            " [3. 3.]\n",
            " [3. 3.]\n",
            " [3. 3.]]\n"
          ]
        }
      ],
      "source": [
        "print( np.dot(np.ones((5,3)), np.ones((3,2))))"
      ]
    },
    {
      "cell_type": "markdown",
      "metadata": {
        "id": "Y_GiGKz5iSda"
      },
      "source": [
        "#### 25. Given a 1D array, negate all elements which are between 3 and 8, in place. (★☆☆) \n",
        "(**hint**: >, <=)"
      ]
    },
    {
      "cell_type": "code",
      "execution_count": null,
      "metadata": {
        "id": "CLK9NL8LiSda",
        "colab": {
          "base_uri": "https://localhost:8080/"
        },
        "outputId": "15ebdb56-d29b-42a4-eb8f-f7cabe3b0599"
      },
      "outputs": [
        {
          "output_type": "execute_result",
          "data": {
            "text/plain": [
              "array([ 1,  2,  3, -4, -5, -6, -7, -8,  3,  2, -6, -8,  1,  3, -7,  2, -6])"
            ]
          },
          "metadata": {},
          "execution_count": 67
        }
      ],
      "source": [
        "arr = np.array([1,2,3,4,5,6,7,8,3,2,6,8,1,3,7,2,6])\n",
        "arr[ (arr > 3) & (arr <=8 ) ] *= -1\n",
        "arr"
      ]
    },
    {
      "cell_type": "markdown",
      "metadata": {
        "id": "fqhjdD_7iSdb"
      },
      "source": [
        "#### 26. What is the output of the following script? (★☆☆) \n",
        "(**hint**: np.sum)"
      ]
    },
    {
      "cell_type": "markdown",
      "metadata": {
        "id": "Q-1m49cfiSdb"
      },
      "source": [
        "```python\n",
        "# Author: Jake VanderPlas\n",
        "\n",
        "print(sum(range(5),-1))\n",
        "from numpy import *\n",
        "print(sum(range(5),-1))\n",
        "```"
      ]
    },
    {
      "cell_type": "code",
      "execution_count": null,
      "metadata": {
        "id": "oX8epTYqiSdb",
        "colab": {
          "base_uri": "https://localhost:8080/"
        },
        "outputId": "d654b2fe-6d75-4aa7-be83-d56591762fe6"
      },
      "outputs": [
        {
          "output_type": "stream",
          "name": "stdout",
          "text": [
            "9\n",
            "10\n"
          ]
        }
      ],
      "source": [
        "print(sum(range(5),-1))\n",
        "from numpy import *\n",
        "print(sum(range(5),-1))"
      ]
    },
    {
      "cell_type": "markdown",
      "metadata": {
        "id": "UngQBVCLiSdb"
      },
      "source": [
        "#### 27. Consider an integer vector Z, which of these expressions are legal? (★☆☆)"
      ]
    },
    {
      "cell_type": "markdown",
      "metadata": {
        "id": "CJwLRbCUiSdb"
      },
      "source": [
        "```python\n",
        "Z**Z\n",
        "2 << Z >> 2\n",
        "Z <- Z\n",
        "1j*Z\n",
        "Z/1/1\n",
        "Z<Z>Z\n",
        "```"
      ]
    },
    {
      "cell_type": "code",
      "execution_count": null,
      "metadata": {
        "id": "tbfNw47liSdb"
      },
      "outputs": [],
      "source": [
        "z=np.arange(10)\n",
        "print(z**z) #Valid\n",
        "print(2 << z >> 2) #Valid\n",
        "print(z <- z) #Valid\n",
        "print(1j*z) #Valid\n",
        "print(z/1/1) #Valid\n",
        "print(z<z<z) #Not Valid #ValueError: The truth value of an array with more than one element is ambiguous. Use a.any() or a.all()"
      ]
    },
    {
      "cell_type": "markdown",
      "metadata": {
        "id": "mub6kQ8ZiSdb"
      },
      "source": [
        "#### 28. What are the result of the following expressions?"
      ]
    },
    {
      "cell_type": "markdown",
      "metadata": {
        "id": "QgvYEmAJiSdb"
      },
      "source": [
        "```python\n",
        "np.array(0) / np.array(0)\n",
        "np.array(0) // np.array(0)\n",
        "np.array([np.nan]).astype(int).astype(float)\n",
        "```"
      ]
    },
    {
      "cell_type": "code",
      "execution_count": null,
      "metadata": {
        "id": "Ab75LVWyiSdc",
        "colab": {
          "base_uri": "https://localhost:8080/"
        },
        "outputId": "baf7acb2-4af3-445c-afb9-658ba48d9371"
      },
      "outputs": [
        {
          "output_type": "stream",
          "name": "stdout",
          "text": [
            "nan\n",
            "0\n",
            "[-9.22337204e+18]\n"
          ]
        },
        {
          "output_type": "stream",
          "name": "stderr",
          "text": [
            "/usr/local/lib/python3.7/dist-packages/ipykernel_launcher.py:1: RuntimeWarning: invalid value encountered in true_divide\n",
            "  \"\"\"Entry point for launching an IPython kernel.\n",
            "/usr/local/lib/python3.7/dist-packages/ipykernel_launcher.py:2: RuntimeWarning: divide by zero encountered in floor_divide\n",
            "  \n"
          ]
        }
      ],
      "source": [
        "nan\n",
        "0\n",
        "[-9.22337204e+18]"
      ]
    },
    {
      "cell_type": "markdown",
      "metadata": {
        "id": "646W0sC1iSdc"
      },
      "source": [
        "#### 29. How to round away from zero a float array ? (★☆☆) \n",
        "(**hint**: np.uniform, np.copysign, np.ceil, np.abs)"
      ]
    },
    {
      "cell_type": "code",
      "execution_count": null,
      "metadata": {
        "id": "vWi-wldmiSdc",
        "colab": {
          "base_uri": "https://localhost:8080/"
        },
        "outputId": "3646a516-f5f4-434b-9e36-72564b2c9724"
      },
      "outputs": [
        {
          "output_type": "stream",
          "name": "stdout",
          "text": [
            "[  9.   1.   6.  -9.  -6.   1. -10.   4.   1.   3.]\n"
          ]
        }
      ],
      "source": [
        "Z = np.random.uniform(-10,+10,10)\n",
        "print (np.copysign(np.ceil(np.abs(Z)), Z))"
      ]
    },
    {
      "cell_type": "markdown",
      "metadata": {
        "id": "SE3ipe3UiSdc"
      },
      "source": [
        "#### 30. How to find common values between two arrays? (★☆☆) \n",
        "(**hint**: np.intersect1d)"
      ]
    },
    {
      "cell_type": "code",
      "execution_count": null,
      "metadata": {
        "id": "EcjD8h-siSdc",
        "colab": {
          "base_uri": "https://localhost:8080/"
        },
        "outputId": "c4eca2de-0302-4816-a696-8ded4ad557c4"
      },
      "outputs": [
        {
          "output_type": "execute_result",
          "data": {
            "text/plain": [
              "(array([9, 7, 6, 4, 8, 7, 6, 4, 9, 7]),\n",
              " array([2, 7, 2, 2, 8, 8, 4, 1, 9, 5]),\n",
              " array([4, 7, 8, 9]))"
            ]
          },
          "metadata": {},
          "execution_count": 4
        }
      ],
      "source": [
        "x = np.random.randint(1,10,10)\n",
        "y = np.random.randint(1,10,10)\n",
        "x,y,np.intersect1d(x,y)"
      ]
    },
    {
      "cell_type": "markdown",
      "metadata": {
        "id": "aX_PEaHyiSdc"
      },
      "source": [
        "#### 31. How to ignore all numpy warnings (not recommended)? (★☆☆) \n",
        "(**hint**: np.seterr, np.errstate)"
      ]
    },
    {
      "cell_type": "code",
      "execution_count": null,
      "metadata": {
        "id": "l0-N0uA9iSdc",
        "colab": {
          "base_uri": "https://localhost:8080/"
        },
        "outputId": "2e7a1a85-e953-4fdf-f41b-0607c9af35ee"
      },
      "outputs": [
        {
          "output_type": "execute_result",
          "data": {
            "text/plain": [
              "{'divide': 'warn', 'invalid': 'warn', 'over': 'warn', 'under': 'ignore'}"
            ]
          },
          "metadata": {},
          "execution_count": 5
        }
      ],
      "source": [
        "np.seterr(all=\"ignore\")\n"
      ]
    },
    {
      "cell_type": "markdown",
      "metadata": {
        "id": "nAmq2JAciSdc"
      },
      "source": [
        "#### 32. Is the following expressions true? (★☆☆) \n",
        "(**hint**: imaginary number)"
      ]
    },
    {
      "cell_type": "markdown",
      "metadata": {
        "id": "BCi7VdmXiSdc"
      },
      "source": [
        "```python\n",
        "np.sqrt(-1) == np.emath.sqrt(-1)\n",
        "```"
      ]
    },
    {
      "cell_type": "code",
      "execution_count": null,
      "metadata": {
        "id": "qFZMaH97iSdd"
      },
      "outputs": [],
      "source": [
        "False"
      ]
    },
    {
      "cell_type": "markdown",
      "metadata": {
        "id": "ctZnUvbviSdd"
      },
      "source": [
        "#### 33. How to get the dates of yesterday, today and tomorrow? (★☆☆) \n",
        "(**hint**: np.datetime64, np.timedelta64)"
      ]
    },
    {
      "cell_type": "code",
      "execution_count": null,
      "metadata": {
        "collapsed": true,
        "id": "5EjmggcPiSdd",
        "colab": {
          "base_uri": "https://localhost:8080/"
        },
        "outputId": "f328456f-e3c1-44a9-b321-ded080c965f9"
      },
      "outputs": [
        {
          "output_type": "execute_result",
          "data": {
            "text/plain": [
              "(numpy.datetime64('2022-04-30'),\n",
              " numpy.datetime64('2022-04-29'),\n",
              " numpy.datetime64('2022-05-01'))"
            ]
          },
          "metadata": {},
          "execution_count": 7
        }
      ],
      "source": [
        "today = np.datetime64(\"today\",'D')\n",
        "tomorrow = today + np.timedelta64(1,\"D\")\n",
        "yesterday = today - np.timedelta64(1,\"D\")\n",
        "today, yesterday, tomorrow"
      ]
    },
    {
      "cell_type": "markdown",
      "metadata": {
        "id": "WTPecPeXiSdd"
      },
      "source": [
        "#### 34. How to get all the dates corresponding to the month of July 2016? (★★☆) \n",
        "(**hint**: np.arange(dtype=datetime64\\['D'\\]))"
      ]
    },
    {
      "cell_type": "code",
      "execution_count": null,
      "metadata": {
        "id": "P9zBgYDEiSdd",
        "colab": {
          "base_uri": "https://localhost:8080/"
        },
        "outputId": "5ad0c6ce-d9e0-4e08-f9ac-9505b6fa2e4a"
      },
      "outputs": [
        {
          "output_type": "execute_result",
          "data": {
            "text/plain": [
              "array(['2016-07-01', '2016-07-02', '2016-07-03', '2016-07-04',\n",
              "       '2016-07-05', '2016-07-06', '2016-07-07', '2016-07-08',\n",
              "       '2016-07-09', '2016-07-10', '2016-07-11', '2016-07-12',\n",
              "       '2016-07-13', '2016-07-14', '2016-07-15', '2016-07-16',\n",
              "       '2016-07-17', '2016-07-18', '2016-07-19', '2016-07-20',\n",
              "       '2016-07-21', '2016-07-22', '2016-07-23', '2016-07-24',\n",
              "       '2016-07-25', '2016-07-26', '2016-07-27', '2016-07-28',\n",
              "       '2016-07-29', '2016-07-30', '2016-07-31'], dtype='datetime64[D]')"
            ]
          },
          "metadata": {},
          "execution_count": 8
        }
      ],
      "source": [
        "date1 = np.arange('2016-07','2016-08', dtype=\"datetime64[D]\")\n",
        "date1"
      ]
    },
    {
      "cell_type": "markdown",
      "metadata": {
        "id": "UuegIOTCiSdd"
      },
      "source": [
        "#### 35. How to compute ((A+B)\\*(-A/2)) in place (without copy)? (★★☆) \n",
        "(**hint**: np.add(out=), np.negative(out=), np.multiply(out=), np.divide(out=))"
      ]
    },
    {
      "cell_type": "code",
      "execution_count": null,
      "metadata": {
        "id": "Vw0ZEkqAiSdd",
        "colab": {
          "base_uri": "https://localhost:8080/"
        },
        "outputId": "0c157a25-6f8f-49c0-c77c-99fb5b2fadc9"
      },
      "outputs": [
        {
          "output_type": "stream",
          "name": "stdout",
          "text": [
            "[ -1.5  -6.  -13.5]\n"
          ]
        }
      ],
      "source": [
        "A = np.arange(1,4, dtype=float)\n",
        "B = np.arange(1,4, dtype=float) * 2\n",
        "C = np.arange(1,4, dtype=float) * 3\n",
        "np.add(A,B,out=B)\n",
        "np.divide(A,2,out=A)\n",
        "np.negative(A,out=A)\n",
        "np.multiply(A,B,out=A)\n",
        "print(A)"
      ]
    },
    {
      "cell_type": "markdown",
      "metadata": {
        "id": "-4xqUiNiiSdd"
      },
      "source": [
        "#### 36. Extract the integer part of a random array using 5 different methods (★★☆) \n",
        "(**hint**: %, np.floor, np.ceil, astype, np.trunc)"
      ]
    },
    {
      "cell_type": "code",
      "execution_count": null,
      "metadata": {
        "id": "C5ECu89HiSdd",
        "colab": {
          "base_uri": "https://localhost:8080/"
        },
        "outputId": "f3e6a28e-c5df-40cf-f4eb-942623d3d1bf"
      },
      "outputs": [
        {
          "output_type": "execute_result",
          "data": {
            "text/plain": [
              "(array([ -71.53945774,   66.29288359,  -36.05348445, -123.27714848,\n",
              "          84.43918786]),\n",
              " array([ -71.,   66.,  -36., -123.,   84.]),\n",
              " array([ -72.,   66.,  -36., -123.,   84.]),\n",
              " array([ -72.,   66.,  -37., -124.,   84.]),\n",
              " array([ -71.,   67.,  -36., -123.,   85.]),\n",
              " array([ -71,   66,  -36, -123,   84]))"
            ]
          },
          "metadata": {},
          "execution_count": 10
        }
      ],
      "source": [
        "i = 70*np.random.randn(5)\n",
        "#Remove the decimal  and round the value as it is\n",
        "j = np.trunc(i)\n",
        "#round to nearest integer if value is greater than .5\n",
        "k = np.around(i)\n",
        "#round to Nearest lowest integer if value is less than or equal to .5\n",
        "l = np.floor(i)\n",
        "#Round to next highest value even with .1\n",
        "m = np.ceil(i)\n",
        "#Using astype\n",
        "n = i.astype(int)\n",
        "i,j,k,l,m,n"
      ]
    },
    {
      "cell_type": "markdown",
      "metadata": {
        "id": "YtfveAHJiSde"
      },
      "source": [
        "#### 37. Create a 5x5 matrix with row values ranging from 0 to 4 (★★☆) \n",
        "(**hint**: np.arange)"
      ]
    },
    {
      "cell_type": "code",
      "execution_count": null,
      "metadata": {
        "id": "5gfU1KtJiSde",
        "colab": {
          "base_uri": "https://localhost:8080/"
        },
        "outputId": "75ea2540-6233-4eb9-c757-7e48bcfdeadd"
      },
      "outputs": [
        {
          "output_type": "execute_result",
          "data": {
            "text/plain": [
              "array([[0, 1, 2, 3, 4],\n",
              "       [0, 1, 2, 3, 4],\n",
              "       [0, 1, 2, 3, 4],\n",
              "       [0, 1, 2, 3, 4],\n",
              "       [0, 1, 2, 3, 4]])"
            ]
          },
          "metadata": {},
          "execution_count": 20
        }
      ],
      "source": [
        "# new_arr = np.arange(5)\n",
        "# new_arr.repeat(5).reshape(5,5)\n",
        "new_arr =  np.zeros((5,5), dtype=int) + np.arange(5)\n",
        "new_arr"
      ]
    },
    {
      "cell_type": "markdown",
      "metadata": {
        "id": "sAXJ2R7wiSde"
      },
      "source": [
        "#### 38. Consider a generator function that generates 10 integers and use it to build an array (★☆☆) \n",
        "(**hint**: np.fromiter)"
      ]
    },
    {
      "cell_type": "code",
      "execution_count": null,
      "metadata": {
        "id": "ot_4KrRSiSde",
        "colab": {
          "base_uri": "https://localhost:8080/"
        },
        "outputId": "70a2b0d7-ecb8-4e37-d99d-bf2b3b862eb1"
      },
      "outputs": [
        {
          "output_type": "execute_result",
          "data": {
            "text/plain": [
              "array([0, 1, 2, 3, 4, 5, 6, 7, 8, 9])"
            ]
          },
          "metadata": {},
          "execution_count": 24
        }
      ],
      "source": [
        "def gen_array():\n",
        "    for x in range(10):\n",
        "        yield x\n",
        "z = np.fromiter(gen_array(),dtype=int,count=-1)\n",
        "z\n",
        "#gen_array()"
      ]
    },
    {
      "cell_type": "markdown",
      "metadata": {
        "id": "MEnTdcjPiSde"
      },
      "source": [
        "#### 39. Create a vector of size 10 with values ranging from 0 to 1, both excluded (★★☆) \n",
        "(**hint**: np.linspace)"
      ]
    },
    {
      "cell_type": "code",
      "execution_count": null,
      "metadata": {
        "id": "LOA0HHs9iSde",
        "colab": {
          "base_uri": "https://localhost:8080/"
        },
        "outputId": "2559d2d0-939e-4577-e892-1082a872fc66"
      },
      "outputs": [
        {
          "output_type": "execute_result",
          "data": {
            "text/plain": [
              "array([0.09090909, 0.18181818, 0.27272727, 0.36363636, 0.45454545,\n",
              "       0.54545455, 0.63636364, 0.72727273, 0.81818182, 0.90909091])"
            ]
          },
          "metadata": {},
          "execution_count": 26
        }
      ],
      "source": [
        "x = np.linspace(0,1,11,endpoint=False)[1:]\n",
        "x"
      ]
    },
    {
      "cell_type": "markdown",
      "metadata": {
        "id": "NnvzW1GWiSde"
      },
      "source": [
        "#### 40. Create a random vector of size 10 and sort it (★★☆) \n",
        "(**hint**: sort)"
      ]
    },
    {
      "cell_type": "code",
      "execution_count": null,
      "metadata": {
        "id": "Kw8XZpn2iSde",
        "colab": {
          "base_uri": "https://localhost:8080/"
        },
        "outputId": "43c0f60f-7829-4971-fc35-d8531ea6b2ff"
      },
      "outputs": [
        {
          "output_type": "execute_result",
          "data": {
            "text/plain": [
              "(array([96, 63, 43, 76, 13, 69, 51, 41, 14, 11]),\n",
              " array([11, 13, 14, 41, 43, 51, 63, 69, 76, 96]))"
            ]
          },
          "metadata": {},
          "execution_count": 31
        }
      ],
      "source": [
        "random_vect = np.random.randint(10,100, 10)\n",
        "random_vect, np.sort(random_vect)\n"
      ]
    },
    {
      "cell_type": "markdown",
      "metadata": {
        "id": "jAI2jfYziSdf"
      },
      "source": [
        "#### 41. How to sum a small array faster than np.sum? (★★☆) \n",
        "(**hint**: np.add.reduce)"
      ]
    },
    {
      "cell_type": "code",
      "execution_count": null,
      "metadata": {
        "id": "mnrIICfziSdf",
        "colab": {
          "base_uri": "https://localhost:8080/"
        },
        "outputId": "4b65e483-9883-4a84-c6b3-3c6b2e4b9656"
      },
      "outputs": [
        {
          "output_type": "execute_result",
          "data": {
            "text/plain": [
              "(array([30, 28, 34, 31, 27, 13, 42, 49, 15, 35]), 304)"
            ]
          },
          "metadata": {},
          "execution_count": 35
        }
      ],
      "source": [
        "random_vect = np.random.randint(10,50, 10)\n",
        "random_vect, np.add.reduce(random_vect)"
      ]
    },
    {
      "cell_type": "markdown",
      "metadata": {
        "id": "JX6Gp5NtiSdf"
      },
      "source": [
        "#### 42. Consider two random array A and B, check if they are equal (★★☆) \n",
        "(**hint**: np.allclose, np.array\\_equal)"
      ]
    },
    {
      "cell_type": "code",
      "execution_count": null,
      "metadata": {
        "id": "xBBjEo0LiSdf",
        "colab": {
          "base_uri": "https://localhost:8080/"
        },
        "outputId": "2551998c-770f-4207-99dd-702fbebc1ced"
      },
      "outputs": [
        {
          "output_type": "execute_result",
          "data": {
            "text/plain": [
              "(array([0, 1, 2, 3, 4]),\n",
              " array([0, 1, 2, 3, 4]),\n",
              " True,\n",
              " array([13, 11, 16,  6,  6]),\n",
              " array([26, 21, 28, 16, 21]),\n",
              " False)"
            ]
          },
          "metadata": {},
          "execution_count": 41
        }
      ],
      "source": [
        "arr1 , arr2 = np.arange(5), np.arange(5)\n",
        "\n",
        "arr3, arr4 = np.random.randint(1,20,5), np.random.randint(10,30,5)\n",
        "\n",
        "arr1, arr2, np.array_equal(arr1, arr2), arr3, arr4, np.array_equal(arr3,arr4)"
      ]
    },
    {
      "cell_type": "markdown",
      "metadata": {
        "id": "iH5d3L9DiSdf"
      },
      "source": [
        "#### 43. Make an array immutable (read-only) (★★☆) \n",
        "(**hint**: flags.writeable)"
      ]
    },
    {
      "cell_type": "code",
      "execution_count": null,
      "metadata": {
        "id": "1mJdaptNiSdf",
        "colab": {
          "base_uri": "https://localhost:8080/",
          "height": 200
        },
        "outputId": "4a2cc940-f2cc-4162-8cb9-bdc8819b9865"
      },
      "outputs": [
        {
          "output_type": "error",
          "ename": "ValueError",
          "evalue": "ignored",
          "traceback": [
            "\u001b[0;31m---------------------------------------------------------------------------\u001b[0m",
            "\u001b[0;31mValueError\u001b[0m                                Traceback (most recent call last)",
            "\u001b[0;32m<ipython-input-42-ed0c1c0493dc>\u001b[0m in \u001b[0;36m<module>\u001b[0;34m()\u001b[0m\n\u001b[1;32m      3\u001b[0m \u001b[0ma\u001b[0m\u001b[0;34m\u001b[0m\u001b[0;34m\u001b[0m\u001b[0m\n\u001b[1;32m      4\u001b[0m \u001b[0ma\u001b[0m\u001b[0;34m.\u001b[0m\u001b[0mflags\u001b[0m\u001b[0;34m.\u001b[0m\u001b[0mwriteable\u001b[0m \u001b[0;34m=\u001b[0m \u001b[0;32mFalse\u001b[0m\u001b[0;34m\u001b[0m\u001b[0;34m\u001b[0m\u001b[0m\n\u001b[0;32m----> 5\u001b[0;31m \u001b[0ma\u001b[0m\u001b[0;34m[\u001b[0m\u001b[0;36m7\u001b[0m\u001b[0;34m]\u001b[0m \u001b[0;34m=\u001b[0m \u001b[0;36m9\u001b[0m\u001b[0;34m\u001b[0m\u001b[0;34m\u001b[0m\u001b[0m\n\u001b[0m",
            "\u001b[0;31mValueError\u001b[0m: assignment destination is read-only"
          ]
        }
      ],
      "source": [
        "a = np.arange(10)\n",
        "a[4] = 25\n",
        "a\n",
        "a.flags.writeable = False\n",
        "a[7] = 9"
      ]
    },
    {
      "cell_type": "markdown",
      "metadata": {
        "id": "igA_VmsqiSdf"
      },
      "source": [
        "#### 44. Consider a random 10x2 matrix representing cartesian coordinates, convert them to polar coordinates (★★☆) \n",
        "(**hint**: np.sqrt, np.arctan2)"
      ]
    },
    {
      "cell_type": "code",
      "execution_count": null,
      "metadata": {
        "id": "48MSVHoDiSdf",
        "colab": {
          "base_uri": "https://localhost:8080/"
        },
        "outputId": "46b0a7e8-8512-4e80-fd17-2c584ced73f5"
      },
      "outputs": [
        {
          "output_type": "stream",
          "name": "stdout",
          "text": [
            "[0.91611195 0.70561934 0.65953872 0.22989214 1.12289394 0.87867942\n",
            " 0.65137468 0.45267849 1.32390466 0.83138557]\n",
            "[0.34332388 1.38493637 0.37873584 1.21655842 1.04395885 0.43589093\n",
            " 0.95118483 1.09463423 0.71573233 0.10782751]\n"
          ]
        }
      ],
      "source": [
        "Z = np.random.random((10,2))\n",
        "X,Y = Z[:,0], Z[:,1]\n",
        "R = np.sqrt(X**2+Y**2)\n",
        "T = np.arctan2(Y,X)\n",
        "print(R)\n",
        "print(T)"
      ]
    },
    {
      "cell_type": "markdown",
      "metadata": {
        "id": "Cp7tUs9BiSdf"
      },
      "source": [
        "#### 45. Create random vector of size 10 and replace the maximum value by 0 (★★☆) \n",
        "(**hint**: argmax)"
      ]
    },
    {
      "cell_type": "code",
      "execution_count": null,
      "metadata": {
        "id": "6rPslbgIiSdg",
        "colab": {
          "base_uri": "https://localhost:8080/"
        },
        "outputId": "789fa6cd-101e-42d7-add2-7fc9e88b5afa"
      },
      "outputs": [
        {
          "output_type": "execute_result",
          "data": {
            "text/plain": [
              "array([23, 22, 14,  0, 11, 10])"
            ]
          },
          "metadata": {},
          "execution_count": 46
        }
      ],
      "source": [
        "x = np.array([23,22,14,35,11,10])\n",
        "x[x.argmax()] = 0\n",
        "x"
      ]
    },
    {
      "cell_type": "markdown",
      "metadata": {
        "id": "hjGUX0rYiSdg"
      },
      "source": [
        "#### 46. Create a structured array with `x` and `y` coordinates covering the \\[0,1\\]x\\[0,1\\] area (★★☆) \n",
        "(**hint**: np.meshgrid)"
      ]
    },
    {
      "cell_type": "code",
      "execution_count": null,
      "metadata": {
        "id": "k7NA97hNiSdg",
        "colab": {
          "base_uri": "https://localhost:8080/"
        },
        "outputId": "f0a51967-78f8-40a0-b87a-525349670fb4"
      },
      "outputs": [
        {
          "output_type": "stream",
          "name": "stdout",
          "text": [
            "[[(0.  , 0.  ) (0.25, 0.  ) (0.5 , 0.  ) (0.75, 0.  ) (1.  , 0.  )]\n",
            " [(0.  , 0.25) (0.25, 0.25) (0.5 , 0.25) (0.75, 0.25) (1.  , 0.25)]\n",
            " [(0.  , 0.5 ) (0.25, 0.5 ) (0.5 , 0.5 ) (0.75, 0.5 ) (1.  , 0.5 )]\n",
            " [(0.  , 0.75) (0.25, 0.75) (0.5 , 0.75) (0.75, 0.75) (1.  , 0.75)]\n",
            " [(0.  , 1.  ) (0.25, 1.  ) (0.5 , 1.  ) (0.75, 1.  ) (1.  , 1.  )]]\n"
          ]
        }
      ],
      "source": [
        "Z = np.zeros((5,5), [('x',float),('y',float)])\n",
        "Z['x'], Z['y'] = np.meshgrid(np.linspace(0,1,5),\n",
        "                             np.linspace(0,1,5))\n",
        "print(Z)"
      ]
    },
    {
      "cell_type": "markdown",
      "metadata": {
        "id": "KOdiQrGoiSdg"
      },
      "source": [
        "####  47. Given two arrays, X and Y, construct the Cauchy matrix C (Cij =1/(xi - yj)) \n",
        "(**hint**: np.subtract.outer)"
      ]
    },
    {
      "cell_type": "code",
      "execution_count": null,
      "metadata": {
        "id": "9L92dnGKiSdg",
        "colab": {
          "base_uri": "https://localhost:8080/"
        },
        "outputId": "cb6e8153-ed6b-4f73-83a8-0e091d386b7b"
      },
      "outputs": [
        {
          "output_type": "stream",
          "name": "stdout",
          "text": [
            "3638.163637117973\n"
          ]
        }
      ],
      "source": [
        "X = np.arange(8)\n",
        "Y = X + 0.5\n",
        "C = 1.0 / np.subtract.outer(X, Y)\n",
        "print(np.linalg.det(C))"
      ]
    },
    {
      "cell_type": "markdown",
      "metadata": {
        "id": "RKI1M6tgiSdg"
      },
      "source": [
        "#### 48. Print the minimum and maximum representable value for each numpy scalar type (★★☆) \n",
        "(**hint**: np.iinfo, np.finfo, eps)"
      ]
    },
    {
      "cell_type": "code",
      "execution_count": null,
      "metadata": {
        "id": "JjDA2N-tiSdg"
      },
      "outputs": [],
      "source": [
        "for dtype in [np.int8, np.int32, np.int64]:\n",
        "   print(np.iinfo(dtype).min)\n",
        "   print(np.iinfo(dtype).max)\n",
        "for dtype in [np.float32, np.float64]:\n",
        "   print(np.finfo(dtype).min)\n",
        "   print(np.finfo(dtype).max)\n",
        "   print(np.finfo(dtype).eps)"
      ]
    },
    {
      "cell_type": "markdown",
      "metadata": {
        "id": "saofULMMiSdg"
      },
      "source": [
        "#### 49. How to print all the values of an array? (★★☆) \n",
        "(**hint**: np.set\\_printoptions)"
      ]
    },
    {
      "cell_type": "code",
      "execution_count": null,
      "metadata": {
        "id": "ERl18FmciSdg",
        "colab": {
          "base_uri": "https://localhost:8080/"
        },
        "outputId": "a7c58ae7-68d2-4a02-dfd5-07e4fec0f533"
      },
      "outputs": [
        {
          "output_type": "stream",
          "name": "stdout",
          "text": [
            "[[0. 0. 0. ... 0. 0. 0.]\n",
            " [0. 0. 0. ... 0. 0. 0.]\n",
            " [0. 0. 0. ... 0. 0. 0.]\n",
            " ...\n",
            " [0. 0. 0. ... 0. 0. 0.]\n",
            " [0. 0. 0. ... 0. 0. 0.]\n",
            " [0. 0. 0. ... 0. 0. 0.]]\n"
          ]
        }
      ],
      "source": [
        "np.set_printoptions(threshold=16)\n",
        "Z = np.zeros((16,16))\n",
        "print(Z)"
      ]
    },
    {
      "cell_type": "markdown",
      "metadata": {
        "id": "WcZ3VaqoiSdh"
      },
      "source": [
        "#### 50. How to find the closest value (to a given scalar) in a vector? (★★☆) \n",
        "(**hint**: argmin)"
      ]
    },
    {
      "cell_type": "code",
      "execution_count": null,
      "metadata": {
        "id": "7caQnEpsiSdh",
        "colab": {
          "base_uri": "https://localhost:8080/"
        },
        "outputId": "71efa952-7dae-4271-e035-17271a865ccd"
      },
      "outputs": [
        {
          "output_type": "stream",
          "name": "stdout",
          "text": [
            "2\n"
          ]
        },
        {
          "output_type": "execute_result",
          "data": {
            "text/plain": [
              "(array([0, 1, 2, 3, 4, 5, 6, 7, 8, 9]), 2.447778236176863, 2, None)"
            ]
          },
          "metadata": {},
          "execution_count": 58
        }
      ],
      "source": [
        "Z = np.arange(10)\n",
        "v = np.random.uniform(0,10)\n",
        "index = (np.abs(Z-v)).argmin()\n",
        "Z,v,index,print(Z[index])"
      ]
    },
    {
      "cell_type": "markdown",
      "metadata": {
        "id": "wj6buYEqiSdh"
      },
      "source": [
        "#### 51. Create a structured array representing a position (x,y) and a color (r,g,b) (★★☆) \n",
        "(**hint**: dtype)"
      ]
    },
    {
      "cell_type": "code",
      "execution_count": null,
      "metadata": {
        "id": "wCr92GAtiSdh",
        "colab": {
          "base_uri": "https://localhost:8080/"
        },
        "outputId": "5beff97b-27a9-4bd3-d6ed-7fa877eacfc9"
      },
      "outputs": [
        {
          "output_type": "stream",
          "name": "stdout",
          "text": [
            "[((0., 0.), (0., 0., 0.)) ((0., 0.), (0., 0., 0.))\n",
            " ((0., 0.), (0., 0., 0.)) ((0., 0.), (0., 0., 0.))\n",
            " ((0., 0.), (0., 0., 0.)) ((0., 0.), (0., 0., 0.))\n",
            " ((0., 0.), (0., 0., 0.)) ((0., 0.), (0., 0., 0.))\n",
            " ((0., 0.), (0., 0., 0.)) ((0., 0.), (0., 0., 0.))]\n"
          ]
        },
        {
          "output_type": "stream",
          "name": "stderr",
          "text": [
            "/usr/local/lib/python3.7/dist-packages/ipykernel_launcher.py:5: FutureWarning: Passing (type, 1) or '1type' as a synonym of type is deprecated; in a future version of numpy, it will be understood as (type, (1,)) / '(1,)type'.\n",
            "  \"\"\"\n"
          ]
        }
      ],
      "source": [
        "Z = np.zeros(10, [ ('position', [ ('x', float, 1),\n",
        "                                  ('y', float, 1)]),\n",
        "                   ('color',    [ ('r', float, 1),\n",
        "                                  ('g', float, 1),\n",
        "                                  ('b', float, 1)])])\n",
        "print(Z)"
      ]
    },
    {
      "cell_type": "markdown",
      "metadata": {
        "id": "It3gUGMxiSdh"
      },
      "source": [
        "#### 52. Consider a random vector with shape (100,2) representing coordinates, find point by point distances (★★☆) \n",
        "(**hint**: np.atleast\\_2d, T, np.sqrt)"
      ]
    },
    {
      "cell_type": "code",
      "execution_count": null,
      "metadata": {
        "id": "CHLJ34KUiSdh",
        "colab": {
          "base_uri": "https://localhost:8080/"
        },
        "outputId": "46583ea6-3440-492e-8078-16028e48c487"
      },
      "outputs": [
        {
          "output_type": "stream",
          "name": "stdout",
          "text": [
            "[[0.         0.61603592 0.3243393  ... 0.7320443  0.60625505 0.89041596]\n",
            " [0.61603592 0.         0.58655008 ... 0.12408541 0.75482602 0.29460362]\n",
            " [0.3243393  0.58655008 0.         ... 0.66721096 0.28689256 0.78661843]\n",
            " ...\n",
            " [0.7320443  0.12408541 0.66721096 ... 0.         0.79793894 0.17083996]\n",
            " [0.60625505 0.75482602 0.28689256 ... 0.79793894 0.         0.8690941 ]\n",
            " [0.89041596 0.29460362 0.78661843 ... 0.17083996 0.8690941  0.        ]]\n"
          ]
        }
      ],
      "source": [
        "Z = np.random.random((10,2))\n",
        "X,Y = np.atleast_2d(Z[:,0], Z[:,1])\n",
        "D = np.sqrt( (X-X.T)**2 + (Y-Y.T)**2)\n",
        "print(D)"
      ]
    },
    {
      "cell_type": "markdown",
      "metadata": {
        "id": "Jo7mmNjAiSdh"
      },
      "source": [
        "#### 53. How to convert a float (32 bits) array into an integer (32 bits) in place? \n",
        "(**hint**: astype(copy=False))"
      ]
    },
    {
      "cell_type": "code",
      "execution_count": null,
      "metadata": {
        "id": "XVoSKZNLiSdh",
        "colab": {
          "base_uri": "https://localhost:8080/"
        },
        "outputId": "8097098d-74cd-4c1a-85ed-48bb5fc04dba"
      },
      "outputs": [
        {
          "output_type": "execute_result",
          "data": {
            "text/plain": [
              "(array([1., 2., 3., 4., 5., 6., 7., 8., 9.]),\n",
              " array([1, 2, 3, 4, 5, 6, 7, 8, 9]))"
            ]
          },
          "metadata": {},
          "execution_count": 63
        }
      ],
      "source": [
        "x = np.arange(1,10,dtype=float)\n",
        "y = x.astype(int)\n",
        "#x.astype(int, copy=False)\n",
        "x,y#,x"
      ]
    },
    {
      "cell_type": "markdown",
      "metadata": {
        "id": "QPl3IwBHiSdh"
      },
      "source": [
        "#### 54. How to read the following file? (★★☆) \n",
        "(**hint**: np.genfromtxt)"
      ]
    },
    {
      "cell_type": "markdown",
      "metadata": {
        "id": "316IVNyjiSdi"
      },
      "source": [
        "```\n",
        "1, 2, 3, 4, 5\n",
        "6,  ,  , 7, 8\n",
        " ,  , 9,10,11\n",
        "```"
      ]
    },
    {
      "cell_type": "code",
      "execution_count": null,
      "metadata": {
        "id": "T6mtPFLxiSdi",
        "colab": {
          "base_uri": "https://localhost:8080/"
        },
        "outputId": "9e48cf99-3b92-4537-ae7b-9533e120e592"
      },
      "outputs": [
        {
          "output_type": "execute_result",
          "data": {
            "text/plain": [
              "array([[ 1,  2,  3,  4,  5],\n",
              "       [ 6, -1, -1,  7,  8],\n",
              "       [-1, -1,  9, 10, 11]])"
            ]
          },
          "metadata": {},
          "execution_count": 64
        }
      ],
      "source": [
        "from numpy.lib.npyio import genfromtxt\n",
        "from io import StringIO as st\n",
        "s = st(\"\"\"1, 2, 3, 4, 5\\n\n",
        "                6,  ,  , 7, 8\\n\n",
        "                 ,  , 9,10,11\\n\"\"\")\n",
        "x = np.genfromtxt(s,delimiter=\",\",dtype=int)\n",
        "x"
      ]
    },
    {
      "cell_type": "markdown",
      "metadata": {
        "id": "wnI34WydiSdi"
      },
      "source": [
        "#### 55. What is the equivalent of enumerate for numpy arrays? (★★☆) \n",
        "(**hint**: np.ndenumerate, np.ndindex)"
      ]
    },
    {
      "cell_type": "code",
      "execution_count": null,
      "metadata": {
        "id": "ok2e7uFGiSdi",
        "colab": {
          "base_uri": "https://localhost:8080/"
        },
        "outputId": "88f023f0-6f3c-4bca-a00c-7253ad591f30"
      },
      "outputs": [
        {
          "output_type": "stream",
          "name": "stdout",
          "text": [
            "(0, 0) 0\n",
            "(0, 1) 1\n",
            "(0, 2) 2\n",
            "(1, 0) 3\n",
            "(1, 1) 4\n",
            "(1, 2) 5\n",
            "(2, 0) 6\n",
            "(2, 1) 7\n",
            "(2, 2) 8\n",
            "(0, 0) 0\n",
            "(0, 1) 1\n",
            "(0, 2) 2\n",
            "(1, 0) 3\n",
            "(1, 1) 4\n",
            "(1, 2) 5\n",
            "(2, 0) 6\n",
            "(2, 1) 7\n",
            "(2, 2) 8\n"
          ]
        }
      ],
      "source": [
        "Z = np.arange(9).reshape(3,3)\n",
        "for index, value in np.ndenumerate(Z):\n",
        "    print(index, value)\n",
        "for index in np.ndindex(Z.shape):\n",
        "    print(index, Z[index])"
      ]
    },
    {
      "cell_type": "markdown",
      "metadata": {
        "id": "AmekDz_RiSdi"
      },
      "source": [
        "#### 56. Generate a generic 2D Gaussian-like array (★★☆) \n",
        "(**hint**: np.meshgrid, np.exp)"
      ]
    },
    {
      "cell_type": "code",
      "execution_count": null,
      "metadata": {
        "id": "gwNT6JmTiSdi"
      },
      "outputs": [],
      "source": [
        ""
      ]
    },
    {
      "cell_type": "markdown",
      "metadata": {
        "id": "MburkZtRiSdi"
      },
      "source": [
        "#### 57. How to randomly place p elements in a 2D array? (★★☆) \n",
        "(**hint**: np.put, np.random.choice)"
      ]
    },
    {
      "cell_type": "code",
      "execution_count": null,
      "metadata": {
        "id": "vbwgZkVciSdi",
        "colab": {
          "base_uri": "https://localhost:8080/"
        },
        "outputId": "de1603ab-30fb-420e-d4e9-ba0ff8dde1c5"
      },
      "outputs": [
        {
          "output_type": "stream",
          "name": "stdout",
          "text": [
            "[[0. 0. 0. ... 0. 0. 0.]\n",
            " [0. 0. 0. ... 0. 0. 0.]\n",
            " [0. 0. 0. ... 0. 0. 0.]\n",
            " ...\n",
            " [0. 1. 0. ... 0. 0. 0.]\n",
            " [0. 0. 0. ... 0. 0. 0.]\n",
            " [0. 0. 0. ... 0. 1. 0.]]\n"
          ]
        }
      ],
      "source": [
        "n = 10\n",
        "p = 3\n",
        "Z = np.zeros((n,n))\n",
        "np.put(Z, np.random.choice(range(n*n), p, replace=False),1)\n",
        "print(Z)"
      ]
    },
    {
      "cell_type": "markdown",
      "metadata": {
        "id": "20FwJegmiSdi"
      },
      "source": [
        "#### 58. Subtract the mean of each row of a matrix (★★☆) \n",
        "(**hint**: mean(axis=,keepdims=))"
      ]
    },
    {
      "cell_type": "code",
      "execution_count": null,
      "metadata": {
        "id": "2vOgQf7qiSdj",
        "colab": {
          "base_uri": "https://localhost:8080/"
        },
        "outputId": "6851e9c4-d909-41e7-cb96-6581f8f4f15c"
      },
      "outputs": [
        {
          "output_type": "execute_result",
          "data": {
            "text/plain": [
              "array([[-0.39122583,  0.17779969, -0.40209221,  0.21690184, -0.01803893,\n",
              "        -0.00631135,  0.26847712,  0.26511875, -0.48396139,  0.37333229]])"
            ]
          },
          "metadata": {},
          "execution_count": 67
        }
      ],
      "source": [
        "Y = X - X.mean(axis=1, keepdims=True)\n",
        "Y"
      ]
    },
    {
      "cell_type": "markdown",
      "metadata": {
        "id": "jJJxo-ftiSdj"
      },
      "source": [
        "#### 59. How to sort an array by the nth column? (★★☆) \n",
        "(**hint**: argsort)"
      ]
    },
    {
      "cell_type": "code",
      "execution_count": null,
      "metadata": {
        "id": "0FpILdB5iSdj",
        "colab": {
          "base_uri": "https://localhost:8080/"
        },
        "outputId": "81525cdc-3dc2-489c-811e-e944d39509d1"
      },
      "outputs": [
        {
          "output_type": "stream",
          "name": "stdout",
          "text": [
            "[[9 4]\n",
            " [1 3]\n",
            " [5 1]\n",
            " [7 6]\n",
            " [2 4]]\n",
            "[4 3 1 6 4]\n",
            "[2 1 0 4 3]\n",
            "[[5 1]\n",
            " [1 3]\n",
            " [9 4]\n",
            " [2 4]\n",
            " [7 6]]\n"
          ]
        }
      ],
      "source": [
        "from numpy.core.fromnumeric import argsort\n",
        "x = np.random.randint(1,10,10).reshape(5,2)\n",
        "print(x)\n",
        "print(x[:,1])\n",
        "print(x[:,1].argsort())\n",
        "print(x[x[:,1].argsort()])"
      ]
    },
    {
      "cell_type": "markdown",
      "metadata": {
        "id": "UwpVNYWKiSdj"
      },
      "source": [
        "#### 60. How to tell if a given 2D array has null columns? (★★☆) \n",
        "(**hint**: any, ~)"
      ]
    },
    {
      "cell_type": "code",
      "execution_count": null,
      "metadata": {
        "id": "Nj5qw23xiSdj",
        "colab": {
          "base_uri": "https://localhost:8080/"
        },
        "outputId": "199ffbe0-6e9a-42c6-a969-848d990ee98e"
      },
      "outputs": [
        {
          "output_type": "stream",
          "name": "stdout",
          "text": [
            "True\n"
          ]
        },
        {
          "output_type": "execute_result",
          "data": {
            "text/plain": [
              "array([[0, 0, 0, ..., 0, 0, 0],\n",
              "       [0, 0, 0, ..., 0, 0, 0],\n",
              "       [0, 0, 0, ..., 0, 0, 0]])"
            ]
          },
          "metadata": {},
          "execution_count": 69
        }
      ],
      "source": [
        "Z = np.random.randint(0,1,(3,10))\n",
        "print((~Z.any(axis=0)).any())\n",
        "Z"
      ]
    },
    {
      "cell_type": "markdown",
      "metadata": {
        "id": "wha2_riiiSdj"
      },
      "source": [
        "#### 61. Find the nearest value from a given value in an array (★★☆) \n",
        "(**hint**: np.abs, argmin, flat)"
      ]
    },
    {
      "cell_type": "code",
      "execution_count": null,
      "metadata": {
        "id": "QAEKBZxRiSdj",
        "colab": {
          "base_uri": "https://localhost:8080/"
        },
        "outputId": "de5e3010-fa74-468e-b177-24e7a48fd41d"
      },
      "outputs": [
        {
          "output_type": "stream",
          "name": "stdout",
          "text": [
            "5 0.5039523346753344\n"
          ]
        }
      ],
      "source": [
        "Z = np.random.uniform(0,1,10)\n",
        "z = 0.5\n",
        "x = np.abs(Z - z).argmin()\n",
        "m = Z.flat[x]\n",
        "print(x, m)"
      ]
    },
    {
      "cell_type": "markdown",
      "metadata": {
        "id": "M23WtANAiSdj"
      },
      "source": [
        "#### 62. Considering two arrays with shape (1,3) and (3,1), how to compute their sum using an iterator? (★★☆) \n",
        "(**hint**: np.nditer)"
      ]
    },
    {
      "cell_type": "code",
      "execution_count": null,
      "metadata": {
        "id": "AH75TljuiSdj",
        "colab": {
          "base_uri": "https://localhost:8080/"
        },
        "outputId": "bb1a2690-42cc-450c-a8b1-42c17c517c9a"
      },
      "outputs": [
        {
          "output_type": "stream",
          "name": "stdout",
          "text": [
            "[[0 1 2]\n",
            " [1 2 3]\n",
            " [2 3 4]]\n"
          ]
        }
      ],
      "source": [
        "A = np.arange(3).reshape(3,1)\n",
        "B = np.arange(3).reshape(1,3)\n",
        "it = np.nditer([A,B,None])\n",
        "for x,y,z in it: z[...] = x + y\n",
        "print(it.operands[2])"
      ]
    },
    {
      "cell_type": "markdown",
      "metadata": {
        "id": "ftWf7tp5iSdk"
      },
      "source": [
        "#### 63. Create an array class that has a name attribute (★★☆) \n",
        "(**hint**: class method)"
      ]
    },
    {
      "cell_type": "code",
      "execution_count": null,
      "metadata": {
        "id": "ATQ8PFVkiSdk",
        "colab": {
          "base_uri": "https://localhost:8080/"
        },
        "outputId": "ab1936bb-3c53-4099-f29f-b4b9c0e91c8e"
      },
      "outputs": [
        {
          "output_type": "stream",
          "name": "stdout",
          "text": [
            "[4. 3. 2. 3. 5. 1. 3. 4. 1. 4.]\n",
            "[7. 5. 3. 5. 9. 1. 5. 7. 1. 7.]\n"
          ]
        }
      ],
      "source": [
        ""
      ]
    },
    {
      "cell_type": "markdown",
      "metadata": {
        "id": "cRvqjeIUiSdk"
      },
      "source": [
        "#### 64. Consider a given vector, how to add 1 to each element indexed by a second vector (be careful with repeated indices)? (★★★) \n",
        "(**hint**: np.bincount | np.add.at)"
      ]
    },
    {
      "cell_type": "code",
      "execution_count": null,
      "metadata": {
        "id": "TksTpk48iSdk",
        "colab": {
          "base_uri": "https://localhost:8080/"
        },
        "outputId": "8754d2ca-2256-4efa-c598-a02d1568312d"
      },
      "outputs": [
        {
          "output_type": "stream",
          "name": "stdout",
          "text": [
            "[3. 2. 4. 2. 1. 2. 2. 4. 6. 4.]\n",
            "[ 5.  3.  7.  3.  1.  3.  3.  7. 11.  7.]\n"
          ]
        }
      ],
      "source": [
        "Z = np.ones(10)\n",
        "I = np.random.randint(0,len(Z),20)\n",
        "Z += np.bincount(I, minlength=len(Z))\n",
        "print(Z)\n",
        "\n",
        "# Another solution\n",
        "# Author: Bartosz Telenczuk\n",
        "np.add.at(Z, I, 1)\n",
        "print(Z)"
      ]
    },
    {
      "cell_type": "markdown",
      "metadata": {
        "id": "IJ-HaHeCiSdk"
      },
      "source": [
        "#### 65. How to accumulate elements of a vector (X) to an array (F) based on an index list (I)? (★★★) \n",
        "(**hint**: np.bincount)"
      ]
    },
    {
      "cell_type": "code",
      "execution_count": null,
      "metadata": {
        "id": "iwsXDmZniSdk",
        "colab": {
          "base_uri": "https://localhost:8080/"
        },
        "outputId": "616ae128-b211-4c6b-a651-472cd946b7f7"
      },
      "outputs": [
        {
          "output_type": "stream",
          "name": "stdout",
          "text": [
            "[0. 7. 0. 6. 5. 0. 0. 0. 0. 3.]\n"
          ]
        }
      ],
      "source": [
        "# Author: Alan G Isaac\n",
        "\n",
        "X = [1,2,3,4,5,6]\n",
        "I = [1,3,9,3,4,1]\n",
        "F = np.bincount(I,X)\n",
        "print(F)"
      ]
    },
    {
      "cell_type": "markdown",
      "metadata": {
        "id": "Faoc_lgRiSdk"
      },
      "source": [
        "#### 66. Considering a (w,h,3) image of (dtype=ubyte), compute the number of unique colors (★★★) \n",
        "(**hint**: np.unique)"
      ]
    },
    {
      "cell_type": "code",
      "execution_count": null,
      "metadata": {
        "id": "Nbg9XM-miSdk",
        "colab": {
          "base_uri": "https://localhost:8080/"
        },
        "outputId": "9e9d2dc3-262e-4498-cd04-dae96dda665b"
      },
      "outputs": [
        {
          "output_type": "stream",
          "name": "stdout",
          "text": [
            "64\n"
          ]
        }
      ],
      "source": [
        "# Faster version\n",
        "# Author: Mark Setchell\n",
        "# https://stackoverflow.com/a/59671950/2836621\n",
        "\n",
        "w, h = 256, 256\n",
        "I = np.random.randint(0,4,(h,w,3), dtype=np.uint8)\n",
        "\n",
        "# View each pixel as a single 24-bit integer, rather than three 8-bit bytes\n",
        "I24 = np.dot(I.astype(np.uint32),[1,256,65536])\n",
        "\n",
        "# Count unique colours\n",
        "n = len(np.unique(I24))\n",
        "print(n)"
      ]
    },
    {
      "cell_type": "markdown",
      "metadata": {
        "id": "tUYLkB06iSdk"
      },
      "source": [
        "#### 67. Considering a four dimensions array, how to get sum over the last two axis at once? (★★★) \n",
        "(**hint**: sum(axis=(-2,-1)))"
      ]
    },
    {
      "cell_type": "code",
      "execution_count": null,
      "metadata": {
        "id": "E6rc0MR7iSdl",
        "colab": {
          "base_uri": "https://localhost:8080/"
        },
        "outputId": "94d621f6-7305-4e89-a0ac-815f6f5a59b7"
      },
      "outputs": [
        {
          "output_type": "stream",
          "name": "stdout",
          "text": [
            "[[56 65 40 56]\n",
            " [53 60 39 51]\n",
            " [40 45 67 64]]\n",
            "[[56 65 40 56]\n",
            " [53 60 39 51]\n",
            " [40 45 67 64]]\n"
          ]
        }
      ],
      "source": [
        "A = np.random.randint(0,10,(3,4,3,4))\n",
        "# solution by passing a tuple of axes (introduced in numpy 1.7.0)\n",
        "sum = A.sum(axis=(-2,-1))\n",
        "print(sum)\n",
        "# solution by flattening the last two dimensions into one\n",
        "# (useful for functions that don't accept tuples for axis argument)\n",
        "sum = A.reshape(A.shape[:-2] + (-1,)).sum(axis=-1)\n",
        "print(sum)"
      ]
    },
    {
      "cell_type": "markdown",
      "metadata": {
        "id": "HWmMexlliSdl"
      },
      "source": [
        "#### 68. Considering a one-dimensional vector D, how to compute means of subsets of D using a vector S of same size describing subset  indices? (★★★) \n",
        "(**hint**: np.bincount)"
      ]
    },
    {
      "cell_type": "code",
      "execution_count": null,
      "metadata": {
        "id": "zzOY94yPiSdl",
        "colab": {
          "base_uri": "https://localhost:8080/"
        },
        "outputId": "b6f40919-1e16-4c7f-b294-a6ff491e2dd3"
      },
      "outputs": [
        {
          "output_type": "stream",
          "name": "stdout",
          "text": [
            "[0.31724524 0.56644235 0.65873849 0.39116047 0.48362639 0.37067186\n",
            " 0.45360359 0.51314292 0.53361866 0.51090717]\n"
          ]
        }
      ],
      "source": [
        "# Author: Jaime Fernández del Río\n",
        "\n",
        "D = np.random.uniform(0,1,100)\n",
        "S = np.random.randint(0,10,100)\n",
        "D_sums = np.bincount(S, weights=D)\n",
        "D_counts = np.bincount(S)\n",
        "D_means = D_sums / D_counts\n",
        "print(D_means)"
      ]
    },
    {
      "cell_type": "markdown",
      "metadata": {
        "id": "pyRl0ewLiSdl"
      },
      "source": [
        "#### 69. How to get the diagonal of a dot product? (★★★) \n",
        "(**hint**: np.diag)"
      ]
    },
    {
      "cell_type": "code",
      "execution_count": null,
      "metadata": {
        "id": "M2dxcFYOiSdl"
      },
      "outputs": [],
      "source": [
        "A = np.random.uniform(0,1,(5,5))\n",
        "B = np.random.uniform(0,1,(5,5))\n",
        "\n",
        "A,B,np.diag(np.dot(A, B))"
      ]
    },
    {
      "cell_type": "markdown",
      "metadata": {
        "id": "_9_wPVEJiSdl"
      },
      "source": [
        "#### 70. Consider the vector \\[1, 2, 3, 4, 5\\], how to build a new vector with 3 consecutive zeros interleaved between each value? (★★★) \n",
        "(**hint**: array\\[::4\\])"
      ]
    },
    {
      "cell_type": "code",
      "execution_count": null,
      "metadata": {
        "id": "PtthRT5IiSdl",
        "colab": {
          "base_uri": "https://localhost:8080/"
        },
        "outputId": "3d62575c-f660-4e69-a81f-91fa4cbaeada"
      },
      "outputs": [
        {
          "output_type": "stream",
          "name": "stdout",
          "text": [
            "[1. 0. 0. ... 0. 0. 5.]\n"
          ]
        }
      ],
      "source": [
        "Z = np.array([1,2,3,4,5])\n",
        "nz = 3\n",
        "Z0 = np.zeros(len(Z) + (len(Z)-1)*(nz))\n",
        "Z0[::nz+1] = Z\n",
        "print(Z0)"
      ]
    },
    {
      "cell_type": "markdown",
      "metadata": {
        "id": "eVSeAxh0iSdl"
      },
      "source": [
        "#### 71. Consider an array of dimension (5,5,3), how to mulitply it by an array with dimensions (5,5)? (★★★) \n",
        "(**hint**: array\\[:, :, None\\])"
      ]
    },
    {
      "cell_type": "code",
      "execution_count": null,
      "metadata": {
        "collapsed": true,
        "id": "ugUUrmo0iSdl"
      },
      "outputs": [],
      "source": [
        "A = np.ones((5,5,3))\n",
        "B = 2*np.ones((5,5))\n",
        "print(A * B[:,:,None])"
      ]
    },
    {
      "cell_type": "markdown",
      "metadata": {
        "id": "_PN_gBM1iSdm"
      },
      "source": [
        "#### 72. How to swap two rows of an array? (★★★) \n",
        "(**hint**: array\\[\\[\\]\\] = array\\[\\[\\]\\])"
      ]
    },
    {
      "cell_type": "code",
      "execution_count": 2,
      "metadata": {
        "id": "Oq0fm0NpiSdm",
        "colab": {
          "base_uri": "https://localhost:8080/"
        },
        "outputId": "61bdaf71-39ff-4ebe-c4e3-c1a5584a8dbc"
      },
      "outputs": [
        {
          "output_type": "execute_result",
          "data": {
            "text/plain": [
              "array([[ 5,  6,  7,  8,  9],\n",
              "       [ 0,  1,  2,  3,  4],\n",
              "       [10, 11, 12, 13, 14],\n",
              "       [15, 16, 17, 18, 19],\n",
              "       [20, 21, 22, 23, 24]])"
            ]
          },
          "metadata": {},
          "execution_count": 2
        }
      ],
      "source": [
        "\n",
        "x = np.arange(25).reshape(5,5)\n",
        "x[[0,1]] = x[[1,0]]\n",
        "x"
      ]
    },
    {
      "cell_type": "markdown",
      "metadata": {
        "id": "GRis1HEmiSdm"
      },
      "source": [
        "#### 73. Consider a set of 10 triplets describing 10 triangles (with shared vertices), find the set of unique line segments composing all the  triangles (★★★) \n",
        "(**hint**: repeat, np.roll, np.sort, view, np.unique)"
      ]
    },
    {
      "cell_type": "code",
      "execution_count": null,
      "metadata": {
        "id": "80xV_w_IiSdm"
      },
      "outputs": [],
      "source": [
        ""
      ]
    },
    {
      "cell_type": "markdown",
      "metadata": {
        "id": "D4pwzdg2iSdm"
      },
      "source": [
        "#### 74. Given an array C that is a bincount, how to produce an array A such that np.bincount(A) == C? (★★★) \n",
        "(**hint**: np.repeat)"
      ]
    },
    {
      "cell_type": "code",
      "execution_count": 4,
      "metadata": {
        "id": "kWIsw_KViSdm",
        "colab": {
          "base_uri": "https://localhost:8080/"
        },
        "outputId": "c5e1c443-3492-44cb-9046-a96937529567"
      },
      "outputs": [
        {
          "output_type": "stream",
          "name": "stdout",
          "text": [
            "[1 1 2 3 4 4 6]\n"
          ]
        }
      ],
      "source": [
        "C = np.bincount([1,1,2,3,4,4,6])\n",
        "A = np.repeat(np.arange(len(C)), C)\n",
        "print(A)"
      ]
    },
    {
      "cell_type": "markdown",
      "metadata": {
        "id": "rHYOGMEEiSdm"
      },
      "source": [
        "#### 75. How to compute averages using a sliding window over an array? (★★★) \n",
        "(**hint**: np.cumsum)"
      ]
    },
    {
      "cell_type": "code",
      "execution_count": 5,
      "metadata": {
        "id": "QUTztWWKiSdm",
        "colab": {
          "base_uri": "https://localhost:8080/"
        },
        "outputId": "bcd54669-5ea0-4127-8952-4757c93c815d"
      },
      "outputs": [
        {
          "output_type": "stream",
          "name": "stdout",
          "text": [
            "[ 1.  2.  3.  4.  5.  6.  7.  8.  9. 10. 11. 12. 13. 14. 15. 16. 17. 18.]\n"
          ]
        }
      ],
      "source": [
        "def moving_average(a, n=3) :\n",
        "    ret = np.cumsum(a, dtype=float)\n",
        "    ret[n:] = ret[n:] - ret[:-n]\n",
        "    return ret[n - 1:] / n\n",
        "Z = np.arange(20)\n",
        "print(moving_average(Z, n=3))"
      ]
    },
    {
      "cell_type": "markdown",
      "metadata": {
        "id": "tKDzzYCLiSdn"
      },
      "source": [
        "#### 76. Consider a one-dimensional array Z, build a two-dimensional array whose first row is (Z\\[0\\],Z\\[1\\],Z\\[2\\]) and each subsequent row is  shifted by 1 (last row should be (Z\\[-3\\],Z\\[-2\\],Z\\[-1\\]) (★★★) \n",
        "(**hint**: from numpy.lib import stride_tricks)"
      ]
    },
    {
      "cell_type": "code",
      "execution_count": 9,
      "metadata": {
        "id": "jhVsagbniSdn",
        "colab": {
          "base_uri": "https://localhost:8080/"
        },
        "outputId": "00f2aeb6-a5bf-42f8-d074-d7d48d03e03d"
      },
      "outputs": [
        {
          "output_type": "stream",
          "name": "stdout",
          "text": [
            "[[0 1 2]\n",
            " [1 2 3]\n",
            " [2 3 4]\n",
            " [3 4 5]\n",
            " [4 5 6]\n",
            " [5 6 7]\n",
            " [6 7 8]\n",
            " [7 8 9]]\n"
          ]
        }
      ],
      "source": [
        "# Author: Joe Kington / Erik Rigtorp\n",
        "from numpy.lib import stride_tricks\n",
        "\n",
        "def rolling(a, window):\n",
        "    shape = (a.size - window + 1, window)\n",
        "    strides = (a.strides[0], a.strides[0])\n",
        "    return stride_tricks.as_strided(a, shape=shape, strides=strides)\n",
        "Z = rolling(np.arange(10), 3)\n",
        "print(Z)"
      ]
    },
    {
      "cell_type": "markdown",
      "metadata": {
        "id": "Ukd1ArHeiSdn"
      },
      "source": [
        "#### 77. How to negate a boolean, or to change the sign of a float inplace? (★★★) \n",
        "(**hint**: np.logical_not, np.negative)"
      ]
    },
    {
      "cell_type": "code",
      "execution_count": 6,
      "metadata": {
        "id": "lpVd3JPtiSdn",
        "colab": {
          "base_uri": "https://localhost:8080/"
        },
        "outputId": "4606cb52-0c8b-4796-b083-372242a83273"
      },
      "outputs": [
        {
          "output_type": "stream",
          "name": "stdout",
          "text": [
            "[-0.00257193  0.88224873  0.25009689  0.36702599  0.98567245  0.32154241\n",
            "  0.04127444  0.94374605  0.53896049 -0.69302012]\n",
            "[ 0.00257193 -0.88224873 -0.25009689 -0.36702599 -0.98567245 -0.32154241\n",
            " -0.04127444 -0.94374605 -0.53896049  0.69302012]\n"
          ]
        }
      ],
      "source": [
        "Z = np.random.uniform(-1.0,1.0,10)\n",
        "print(Z)\n",
        "np.negative(Z, out=Z)\n",
        "print(Z)"
      ]
    },
    {
      "cell_type": "markdown",
      "metadata": {
        "id": "WzFhtZqdiSdn"
      },
      "source": [
        "#### 78. Consider 2 sets of points P0,P1 describing lines (2d) and a point p, how to compute distance from p to each line i  (P0\\[i\\],P1\\[i\\])? (★★★)"
      ]
    },
    {
      "cell_type": "code",
      "execution_count": null,
      "metadata": {
        "id": "8Kbo1uaLiSdn"
      },
      "outputs": [],
      "source": [
        ""
      ]
    },
    {
      "cell_type": "markdown",
      "metadata": {
        "id": "lLnWjHGtiSdn"
      },
      "source": [
        "#### 79. Consider 2 sets of points P0,P1 describing lines (2d) and a set of points P, how to compute distance from each point j (P\\[j\\]) to each line i (P0\\[i\\],P1\\[i\\])? (★★★)"
      ]
    },
    {
      "cell_type": "code",
      "execution_count": 8,
      "metadata": {
        "id": "okON_ZlmiSdn",
        "colab": {
          "base_uri": "https://localhost:8080/"
        },
        "outputId": "a06500a7-9947-4a30-9073-d0517cb44b2b"
      },
      "outputs": [
        {
          "output_type": "execute_result",
          "data": {
            "text/plain": [
              "array([[ 3.34473089, -8.31825419],\n",
              "       [-3.0438133 ,  1.99673209],\n",
              "       [ 5.16925239, -5.72333613],\n",
              "       [ 9.59018018,  2.38569605],\n",
              "       [-5.96911115, -7.49874844],\n",
              "       [-9.0447921 , -7.95063486],\n",
              "       [ 7.08230644,  3.4802881 ],\n",
              "       [-9.54989282, -9.2183177 ],\n",
              "       [-2.49632253,  8.86640127],\n",
              "       [-3.99532011, -9.14809598]])"
            ]
          },
          "metadata": {},
          "execution_count": 8
        }
      ],
      "source": [
        "P0 = np.random.uniform(-10, 10, (10,2))\n",
        "P1 = np.random.uniform(-10,10,(10,2))\n",
        "p = np.random.uniform(-10, 10, (10,2))\n",
        "p"
      ]
    },
    {
      "cell_type": "markdown",
      "metadata": {
        "id": "zslKh6XYiSdn"
      },
      "source": [
        "#### 80. Consider an arbitrary array, write a function that extract a subpart with a fixed shape and centered on a given element (pad with a `fill` value when necessary) (★★★) \n",
        "(**hint**: minimum, maximum)"
      ]
    },
    {
      "cell_type": "code",
      "execution_count": null,
      "metadata": {
        "id": "8pgjUYuoiSdo"
      },
      "outputs": [],
      "source": [
        ""
      ]
    },
    {
      "cell_type": "markdown",
      "metadata": {
        "id": "GJ2ovuw6iSdo"
      },
      "source": [
        "#### 81. Consider an array Z = \\[1,2,3,4,5,6,7,8,9,10,11,12,13,14\\], how to generate an array R = \\[\\[1,2,3,4\\], \\[2,3,4,5\\], \\[3,4,5,6\\], ..., \\[11,12,13,14\\]\\]? (★★★) \n",
        "(**hint**: stride\\_tricks.as\\_strided)"
      ]
    },
    {
      "cell_type": "code",
      "execution_count": 10,
      "metadata": {
        "id": "FJzZOoiAiSdo",
        "colab": {
          "base_uri": "https://localhost:8080/"
        },
        "outputId": "96eede50-0519-4ee2-d0b2-2a540bd55a14"
      },
      "outputs": [
        {
          "output_type": "stream",
          "name": "stdout",
          "text": [
            "[[ 1  2  3  4]\n",
            " [ 2  3  4  5]\n",
            " [ 3  4  5  6]\n",
            " [ 4  5  6  7]\n",
            " [ 5  6  7  8]\n",
            " [ 6  7  8  9]\n",
            " [ 7  8  9 10]\n",
            " [ 8  9 10 11]\n",
            " [ 9 10 11 12]\n",
            " [10 11 12 13]\n",
            " [11 12 13 14]]\n"
          ]
        }
      ],
      "source": [
        "# Author: Stefan van der Walt\n",
        "\n",
        "Z = np.arange(1,15,dtype=np.uint32)\n",
        "R = stride_tricks.as_strided(Z,(11,4),(4,4))\n",
        "print(R)"
      ]
    },
    {
      "cell_type": "markdown",
      "metadata": {
        "id": "bR2P23SniSdo"
      },
      "source": [
        "#### 82. Compute a matrix rank (★★★) \n",
        "(**hint**: np.linalg.svd) (suggestion: np.linalg.svd)"
      ]
    },
    {
      "cell_type": "code",
      "execution_count": 11,
      "metadata": {
        "id": "yu3s5nKTiSdo",
        "colab": {
          "base_uri": "https://localhost:8080/"
        },
        "outputId": "82ca8ec8-66d3-41f3-b445-961d63e9e468"
      },
      "outputs": [
        {
          "output_type": "stream",
          "name": "stdout",
          "text": [
            "10\n"
          ]
        }
      ],
      "source": [
        "# Author: Stefan van der Walt\n",
        "\n",
        "Z = np.random.uniform(0,1,(10,10))\n",
        "U, S, V = np.linalg.svd(Z) # Singular Value Decomposition\n",
        "rank = np.sum(S > 1e-10)\n",
        "print(rank)"
      ]
    },
    {
      "cell_type": "markdown",
      "metadata": {
        "id": "uxQB9nIHiSdo"
      },
      "source": [
        "#### 83. How to find the most frequent value in an array? \n",
        "(**hint**: np.bincount, argmax)"
      ]
    },
    {
      "cell_type": "code",
      "execution_count": 13,
      "metadata": {
        "id": "X5gdSRPuiSdo",
        "colab": {
          "base_uri": "https://localhost:8080/"
        },
        "outputId": "812dd77e-5279-4136-d860-b576097a1c0c"
      },
      "outputs": [
        {
          "output_type": "stream",
          "name": "stdout",
          "text": [
            "[26 26 23 21 45 32  4 47 12  7 43 33 45  9  8 26 45 19  2  5 34 31 35 20\n",
            " 36 42 19 45 17 39]\n",
            "45\n"
          ]
        }
      ],
      "source": [
        "Z = np.random.randint(0,50,30)\n",
        "print(Z)\n",
        "print(np.bincount(Z).argmax())"
      ]
    },
    {
      "cell_type": "markdown",
      "metadata": {
        "id": "_6RQrkAjiSdo"
      },
      "source": [
        "#### 84. Extract all the contiguous 3x3 blocks from a random 10x10 matrix (★★★) \n",
        "(**hint**: stride\\_tricks.as\\_strided)"
      ]
    },
    {
      "cell_type": "code",
      "execution_count": null,
      "metadata": {
        "id": "Q1pvI7R1iSdo"
      },
      "outputs": [],
      "source": [
        "# Author: Chris Barker\n",
        "\n",
        "Z = np.random.randint(0,5,(10,10))\n",
        "n = 3\n",
        "i = 1 + (Z.shape[0]-3)\n",
        "j = 1 + (Z.shape[1]-3)\n",
        "C = stride_tricks.as_strided(Z, shape=(i, j, n, n), strides=Z.strides + Z.strides)\n",
        "print(C)"
      ]
    },
    {
      "cell_type": "markdown",
      "metadata": {
        "id": "BNTXnVasiSdo"
      },
      "source": [
        "#### 85. Create a 2D array subclass such that Z\\[i,j\\] == Z\\[j,i\\] (★★★) \n",
        "(**hint**: class method)"
      ]
    },
    {
      "cell_type": "code",
      "execution_count": null,
      "metadata": {
        "id": "OnQGasqDiSdp"
      },
      "outputs": [],
      "source": [
        ""
      ]
    },
    {
      "cell_type": "markdown",
      "metadata": {
        "id": "xhQjDV41iSdp"
      },
      "source": [
        "#### 86. Consider a set of p matrices wich shape (n,n) and a set of p vectors with shape (n,1). How to compute the sum of of the p matrix products at once? (result has shape (n,1)) (★★★) \n",
        "(**hint**: np.tensordot)"
      ]
    },
    {
      "cell_type": "code",
      "execution_count": null,
      "metadata": {
        "id": "yX5QcAyQiSdp"
      },
      "outputs": [],
      "source": [
        "# Author: Stefan van der Walt\n",
        "\n",
        "p, n = 10, 20\n",
        "M = np.ones((p,n,n))\n",
        "V = np.ones((p,n,1))\n",
        "S = np.tensordot(M, V, axes=[[0, 2], [0, 1]])\n",
        "print(S)"
      ]
    },
    {
      "cell_type": "markdown",
      "metadata": {
        "id": "4vHeCd7qiSdp"
      },
      "source": [
        "#### 87. Consider a 16x16 array, how to get the block-sum (block size is 4x4)? (★★★) \n",
        "(**hint**: np.add.reduceat)"
      ]
    },
    {
      "cell_type": "code",
      "execution_count": 17,
      "metadata": {
        "id": "dK5cG59niSdp",
        "colab": {
          "base_uri": "https://localhost:8080/"
        },
        "outputId": "fe48a0e3-5522-486c-a4bc-d5a36367e5bf"
      },
      "outputs": [
        {
          "output_type": "stream",
          "name": "stdout",
          "text": [
            "[[16. 16. 16. 16.]\n",
            " [16. 16. 16. 16.]\n",
            " [16. 16. 16. 16.]\n",
            " [16. 16. 16. 16.]]\n"
          ]
        }
      ],
      "source": [
        "# Author: Robert Kern\n",
        "\n",
        "Z = np.ones((16,16))\n",
        "k = 4\n",
        "S = np.add.reduceat(np.add.reduceat(Z, np.arange(0, Z.shape[0], k), axis=0),\n",
        "                                       np.arange(0, Z.shape[1], k), axis=1)\n",
        "print(S)"
      ]
    },
    {
      "cell_type": "markdown",
      "metadata": {
        "id": "dK2aCyw-iSdp"
      },
      "source": [
        "#### 88. How to implement the Game of Life using numpy arrays? (★★★)"
      ]
    },
    {
      "cell_type": "code",
      "execution_count": null,
      "metadata": {
        "id": "FGBWruLjiSdq"
      },
      "outputs": [],
      "source": [
        ""
      ]
    },
    {
      "cell_type": "markdown",
      "metadata": {
        "id": "aRGNMhtWiSdq"
      },
      "source": [
        "#### 89. How to get the n largest values of an array (★★★) \n",
        "(**hint**: np.argsort | np.argpartition)"
      ]
    },
    {
      "cell_type": "code",
      "execution_count": 18,
      "metadata": {
        "id": "p8_AtCVWiSdq",
        "colab": {
          "base_uri": "https://localhost:8080/"
        },
        "outputId": "1ab529a4-aa92-4e52-9f32-9fefeebfbea1"
      },
      "outputs": [
        {
          "output_type": "stream",
          "name": "stdout",
          "text": [
            "[9995 9996 9997 9998 9999]\n",
            "[9999 9998 9997 9996 9995]\n"
          ]
        }
      ],
      "source": [
        "Z = np.arange(10000)\n",
        "np.random.shuffle(Z)\n",
        "n = 5\n",
        "\n",
        "print (Z[np.argsort(Z)[-n:]])\n",
        "\n",
        "print (Z[np.argpartition(-Z,n)[:n]])"
      ]
    },
    {
      "cell_type": "markdown",
      "metadata": {
        "id": "a3AMXAFEiSdq"
      },
      "source": [
        "#### 90. Given an arbitrary number of vectors, build the cartesian product (every combinations of every item) (★★★) \n",
        "(**hint**: np.indices)"
      ]
    },
    {
      "cell_type": "code",
      "execution_count": 19,
      "metadata": {
        "scrolled": true,
        "id": "2tRbwPo8iSdq",
        "colab": {
          "base_uri": "https://localhost:8080/"
        },
        "outputId": "30ef9d6a-d176-4251-f4b9-aefdc3ca2c18"
      },
      "outputs": [
        {
          "output_type": "stream",
          "name": "stdout",
          "text": [
            "1 loop, best of 5: 3.74 s per loop\n",
            "10 loops, best of 5: 146 ms per loop\n",
            "10 loops, best of 5: 124 ms per loop\n"
          ]
        }
      ],
      "source": [
        "# Author: Ryan G.\n",
        "\n",
        "x = np.random.rand(int(5e7))\n",
        "\n",
        "%timeit np.power(x,3)\n",
        "%timeit x*x*x\n",
        "%timeit np.einsum('i,i,i->i',x,x,x)"
      ]
    },
    {
      "cell_type": "markdown",
      "metadata": {
        "id": "b01aCfDhiSdr"
      },
      "source": [
        "#### 91. How to create a record array from a regular array? (★★★) \n",
        "(**hint**: np.core.records.fromarrays)"
      ]
    },
    {
      "cell_type": "code",
      "execution_count": null,
      "metadata": {
        "id": "SFi7TocOiSdr"
      },
      "outputs": [],
      "source": [
        ""
      ]
    },
    {
      "cell_type": "markdown",
      "metadata": {
        "id": "364QL9XBiSdr"
      },
      "source": [
        "#### 92. Consider a large vector Z, compute Z to the power of 3 using 3 different methods (★★★) \n",
        "(**hint**: np.power, \\*, np.einsum)"
      ]
    },
    {
      "cell_type": "code",
      "execution_count": null,
      "metadata": {
        "id": "aKdgvV6eiSdr"
      },
      "outputs": [],
      "source": [
        ""
      ]
    },
    {
      "cell_type": "markdown",
      "metadata": {
        "id": "-CePJDmgiSdr"
      },
      "source": [
        "#### 93. Consider two arrays A and B of shape (8,3) and (2,2). How to find rows of A that contain elements of each row of B regardless of the order of the elements in B? (★★★) \n",
        "(**hint**: np.where)"
      ]
    },
    {
      "cell_type": "code",
      "execution_count": null,
      "metadata": {
        "id": "0HXeSqF_iSdr"
      },
      "outputs": [],
      "source": [
        ""
      ]
    },
    {
      "cell_type": "markdown",
      "metadata": {
        "id": "4b5w3L60iSdr"
      },
      "source": [
        "#### 94. Considering a 10x3 matrix, extract rows with unequal values (e.g. \\[2,2,3\\]) (★★★)"
      ]
    },
    {
      "cell_type": "code",
      "execution_count": null,
      "metadata": {
        "id": "Jgips33JiSdr"
      },
      "outputs": [],
      "source": [
        ""
      ]
    },
    {
      "cell_type": "markdown",
      "metadata": {
        "id": "IWW5OqcyiSdr"
      },
      "source": [
        "#### 95. Convert a vector of ints into a matrix binary representation (★★★) \n",
        "(**hint**: np.unpackbits)"
      ]
    },
    {
      "cell_type": "code",
      "execution_count": 20,
      "metadata": {
        "id": "u34fL_9aiSds",
        "colab": {
          "base_uri": "https://localhost:8080/"
        },
        "outputId": "6717a060-3635-4933-bfed-998faebac7c5"
      },
      "outputs": [
        {
          "output_type": "stream",
          "name": "stdout",
          "text": [
            "[[0 0 0 0 0 0 0 0]\n",
            " [0 0 0 0 0 0 0 1]\n",
            " [0 0 0 0 0 0 1 0]\n",
            " [0 0 0 0 0 0 1 1]\n",
            " [0 0 0 0 1 1 1 1]\n",
            " [0 0 0 1 0 0 0 0]\n",
            " [0 0 1 0 0 0 0 0]\n",
            " [0 1 0 0 0 0 0 0]\n",
            " [1 0 0 0 0 0 0 0]]\n",
            "[[0 0 0 0 0 0 0 0]\n",
            " [0 0 0 0 0 0 0 1]\n",
            " [0 0 0 0 0 0 1 0]\n",
            " [0 0 0 0 0 0 1 1]\n",
            " [0 0 0 0 1 1 1 1]\n",
            " [0 0 0 1 0 0 0 0]\n",
            " [0 0 1 0 0 0 0 0]\n",
            " [0 1 0 0 0 0 0 0]\n",
            " [1 0 0 0 0 0 0 0]]\n"
          ]
        }
      ],
      "source": [
        "I = np.array([0, 1, 2, 3, 15, 16, 32, 64, 128])\n",
        "B = ((I.reshape(-1,1) & (2**np.arange(8))) != 0).astype(int)\n",
        "print(B[:,::-1])\n",
        "\n",
        "# Author: Daniel T. McDonald\n",
        "\n",
        "I = np.array([0, 1, 2, 3, 15, 16, 32, 64, 128], dtype=np.uint8)\n",
        "print(np.unpackbits(I[:, np.newaxis], axis=1))"
      ]
    },
    {
      "cell_type": "markdown",
      "metadata": {
        "id": "-Ti56HiEiSds"
      },
      "source": [
        "#### 96. Given a two dimensional array, how to extract unique rows? (★★★) \n",
        "(**hint**: np.ascontiguousarray)"
      ]
    },
    {
      "cell_type": "code",
      "execution_count": 21,
      "metadata": {
        "id": "lUgE3PR3iSds",
        "colab": {
          "base_uri": "https://localhost:8080/"
        },
        "outputId": "075f1cdf-7d27-4f58-f9c5-73541fc3b5f3"
      },
      "outputs": [
        {
          "output_type": "stream",
          "name": "stdout",
          "text": [
            "[[0 0 1]\n",
            " [1 0 0]\n",
            " [1 1 0]\n",
            " [1 1 1]]\n"
          ]
        }
      ],
      "source": [
        "Z = np.random.randint(0,2,(6,3))\n",
        "T = np.ascontiguousarray(Z).view(np.dtype((np.void, Z.dtype.itemsize * Z.shape[1])))\n",
        "_, idx = np.unique(T, return_index=True)\n",
        "uZ = Z[idx]\n",
        "print(uZ)"
      ]
    },
    {
      "cell_type": "markdown",
      "metadata": {
        "id": "uJttYD-_iSds"
      },
      "source": [
        "#### 97. Considering 2 vectors A & B, write the einsum equivalent of inner, outer, sum, and mul function (★★★) \n",
        "(**hint**: np.einsum)"
      ]
    },
    {
      "cell_type": "code",
      "execution_count": null,
      "metadata": {
        "id": "7BzGEw2ziSds"
      },
      "outputs": [],
      "source": [
        "A = np.random.uniform(0,1,10)\n",
        "B = np.random.uniform(0,1,10)\n",
        "\n",
        "np.einsum('i->', A)       # np.sum(A)\n",
        "np.einsum('i,i->i', A, B) # A * B\n",
        "np.einsum('i,i', A, B)    # np.inner(A, B)\n",
        "np.einsum('i,j->ij', A, B)    # np.outer(A, B)"
      ]
    },
    {
      "cell_type": "markdown",
      "metadata": {
        "id": "59DxIrCCiSds"
      },
      "source": [
        "#### 98. Considering a path described by two vectors (X,Y), how to sample it using equidistant samples (★★★)? \n",
        "(**hint**: np.cumsum, np.interp)"
      ]
    },
    {
      "cell_type": "code",
      "execution_count": 23,
      "metadata": {
        "collapsed": true,
        "id": "cp_5jtOhiSds"
      },
      "outputs": [],
      "source": [
        "phi = np.arange(0, 10*np.pi, 0.1)\n",
        "a = 1\n",
        "x = a*phi*np.cos(phi)\n",
        "y = a*phi*np.sin(phi)\n",
        "\n",
        "dr = (np.diff(x)**2 + np.diff(y)**2)**.5 # segment lengths\n",
        "r = np.zeros_like(x)\n",
        "r[1:] = np.cumsum(dr)                # integrate path\n",
        "r_int = np.linspace(0, r.max(), 200) # regular spaced path\n",
        "x_int = np.interp(r_int, r, x)       # integrate path\n",
        "y_int = np.interp(r_int, r, y)"
      ]
    },
    {
      "cell_type": "markdown",
      "metadata": {
        "id": "VUmkHhTpiSds"
      },
      "source": [
        "#### 99. Given an integer n and a 2D array X, select from X the rows which can be interpreted as draws from a multinomial distribution with n degrees, i.e., the rows which only contain integers and which sum to n. (★★★) \n",
        "(**hint**: np.logical\\_and.reduce, np.mod)"
      ]
    },
    {
      "cell_type": "code",
      "execution_count": 25,
      "metadata": {
        "id": "PJJ6Oe79iSds",
        "colab": {
          "base_uri": "https://localhost:8080/"
        },
        "outputId": "091709d3-3988-4f02-fa3b-60798feb4fc9"
      },
      "outputs": [
        {
          "output_type": "stream",
          "name": "stdout",
          "text": [
            "[[2. 0. 1. 1.]]\n"
          ]
        }
      ],
      "source": [
        "X = np.asarray([[1.0, 0.0, 3.0, 8.0],\n",
        "                [2.0, 0.0, 1.0, 1.0],\n",
        "                [1.5, 2.5, 1.0, 0.0]])\n",
        "n = 4\n",
        "M = np.logical_and.reduce(np.mod(X, 1) == 0, axis=-1)\n",
        "M &= (X.sum(axis=-1) == n)\n",
        "print(X[M])"
      ]
    },
    {
      "cell_type": "markdown",
      "metadata": {
        "id": "Ox-T2F_JiSds"
      },
      "source": [
        "#### 100. Compute bootstrapped 95% confidence intervals for the mean of a 1D array X (i.e., resample the elements of an array with replacement N times, compute the mean of each sample, and then compute percentiles over the means). (★★★) \n",
        "(**hint**: np.percentile)"
      ]
    },
    {
      "cell_type": "code",
      "execution_count": 24,
      "metadata": {
        "id": "XkLvgB1wiSdt",
        "colab": {
          "base_uri": "https://localhost:8080/"
        },
        "outputId": "59fed38a-f3df-4014-914d-e93c5c936429"
      },
      "outputs": [
        {
          "output_type": "stream",
          "name": "stdout",
          "text": [
            "[-0.21953849  0.10804396]\n"
          ]
        }
      ],
      "source": [
        "X = np.random.randn(100) # random 1D array\n",
        "N = 1000 # number of bootstrap samples\n",
        "idx = np.random.randint(0, X.size, (N, X.size))\n",
        "means = X[idx].mean(axis=1)\n",
        "confint = np.percentile(means, [2.5, 97.5])\n",
        "print(confint)"
      ]
    },
    {
      "cell_type": "code",
      "source": [
        ""
      ],
      "metadata": {
        "id": "oJqET8yuWWIN"
      },
      "execution_count": null,
      "outputs": []
    }
  ],
  "metadata": {
    "kernelspec": {
      "display_name": "Python 3",
      "language": "python",
      "name": "python3"
    },
    "language_info": {
      "codemirror_mode": {
        "name": "ipython",
        "version": 3
      },
      "file_extension": ".py",
      "mimetype": "text/x-python",
      "name": "python",
      "nbconvert_exporter": "python",
      "pygments_lexer": "ipython3",
      "version": "3.8.3"
    },
    "colab": {
      "name": "Numpy_tasks.ipynb",
      "provenance": [],
      "collapsed_sections": [
        "LtoxDHh3iSdV",
        "xroFWnSLiSdV",
        "3nYDg84diSdW",
        "9UG3iuxWiSdW",
        "bz7cADT7iSdW",
        "i0XO06g7iSdX",
        "ihN5V7DhiSdX",
        "q3az6gkTiSdX",
        "RluWWGFQiSdX",
        "Dtke3S92iSdY",
        "iHnJVIjIiSdY",
        "mvx5rS-SiSdZ",
        "IqZHmIg8iSdZ",
        "30N7ZNVBiSdZ",
        "dO_kWNnEiSda",
        "9IXTQ6hJiSda",
        "IBPQ2pQViSda",
        "Y_GiGKz5iSda",
        "fqhjdD_7iSdb",
        "UngQBVCLiSdb",
        "mub6kQ8ZiSdb",
        "646W0sC1iSdc",
        "SE3ipe3UiSdc",
        "aX_PEaHyiSdc",
        "nAmq2JAciSdc",
        "ctZnUvbviSdd",
        "WTPecPeXiSdd",
        "UuegIOTCiSdd",
        "-4xqUiNiiSdd",
        "YtfveAHJiSde",
        "sAXJ2R7wiSde",
        "MEnTdcjPiSde",
        "NnvzW1GWiSde",
        "jAI2jfYziSdf",
        "JX6Gp5NtiSdf",
        "iH5d3L9DiSdf",
        "igA_VmsqiSdf",
        "Cp7tUs9BiSdf",
        "hjGUX0rYiSdg",
        "KOdiQrGoiSdg",
        "RKI1M6tgiSdg",
        "saofULMMiSdg",
        "WcZ3VaqoiSdh",
        "wj6buYEqiSdh",
        "It3gUGMxiSdh",
        "Jo7mmNjAiSdh",
        "QPl3IwBHiSdh",
        "wnI34WydiSdi",
        "AmekDz_RiSdi",
        "MburkZtRiSdi",
        "20FwJegmiSdi",
        "jJJxo-ftiSdj",
        "UwpVNYWKiSdj",
        "wha2_riiiSdj",
        "M23WtANAiSdj",
        "ftWf7tp5iSdk",
        "cRvqjeIUiSdk",
        "IJ-HaHeCiSdk",
        "Faoc_lgRiSdk",
        "tUYLkB06iSdk",
        "HWmMexlliSdl",
        "pyRl0ewLiSdl",
        "_9_wPVEJiSdl",
        "b01aCfDhiSdr",
        "364QL9XBiSdr",
        "-CePJDmgiSdr",
        "4b5w3L60iSdr"
      ],
      "include_colab_link": true
    }
  },
  "nbformat": 4,
  "nbformat_minor": 0
}